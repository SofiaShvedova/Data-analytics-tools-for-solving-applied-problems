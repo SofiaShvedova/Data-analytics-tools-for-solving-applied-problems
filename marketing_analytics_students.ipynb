{
  "cells": [
    {
      "cell_type": "markdown",
      "metadata": {
        "id": "view-in-github",
        "colab_type": "text"
      },
      "source": [
        "<a href=\"https://colab.research.google.com/github/SofiaShvedova/Data-analytics-tools-for-solving-applied-problems/blob/main/marketing_analytics_students.ipynb\" target=\"_parent\"><img src=\"https://colab.research.google.com/assets/colab-badge.svg\" alt=\"Open In Colab\"/></a>"
      ]
    },
    {
      "cell_type": "markdown",
      "metadata": {
        "id": "SxUnYhDKTMFD"
      },
      "source": [
        "# **Постановка задачи**"
      ]
    },
    {
      "cell_type": "markdown",
      "metadata": {
        "id": "tlEUZkQ5yvCg"
      },
      "source": [
        "Директор по маркетингу сообщил нам, что недавние маркетинговые иссследования оказались не такими эффективными, как ожидалось. Нам нужно проанализировать набор данных, чтобы понять проблему.\n",
        "\n",
        "Исследовательский анализ данных\n",
        "\n",
        "* Имеются ли нулевые значения или выбросы? \n",
        "* Существуют ли какие-либо переменные, требующие преобразований?\n",
        "* Есть ли какие-нибудь полезные переменные, которые вы можете спроектировать с заданными данными?\n",
        "\n",
        "Статистический анализ\n",
        "\n",
        "* Какие факторы  связаны с количеством покупок в магазине?\n",
        "* С точки зрения общего объема покупок дела в США значительно лучше, чем в остальном мире?\n",
        "\n",
        "\n",
        "Визуализация данных\n",
        "\n",
        "* Какая маркетинговая кампания наиболее успешна?\n",
        "* Как выглядит средний клиент этой компании?\n",
        "* Какие продукты работают лучше всего?"
      ]
    },
    {
      "cell_type": "markdown",
      "metadata": {
        "id": "GRuv2QblTMFP"
      },
      "source": [
        "# **Load the packages**"
      ]
    },
    {
      "cell_type": "code",
      "source": [
        "!pip install dython"
      ],
      "metadata": {
        "id": "1o5f5csQdrM-",
        "outputId": "b116f63d-9116-48bd-b0fd-c0d746d94281",
        "colab": {
          "base_uri": "https://localhost:8080/",
          "height": 1000
        }
      },
      "execution_count": 1,
      "outputs": [
        {
          "output_type": "stream",
          "name": "stdout",
          "text": [
            "Looking in indexes: https://pypi.org/simple, https://us-python.pkg.dev/colab-wheels/public/simple/\n",
            "Collecting dython\n",
            "  Downloading dython-0.7.3-py3-none-any.whl (23 kB)\n",
            "Collecting pandas>=1.4.2\n",
            "  Downloading pandas-1.5.2-cp38-cp38-manylinux_2_17_x86_64.manylinux2014_x86_64.whl (12.2 MB)\n",
            "\u001b[K     |████████████████████████████████| 12.2 MB 24.5 MB/s \n",
            "\u001b[?25hRequirement already satisfied: scipy>=1.7.1 in /usr/local/lib/python3.8/dist-packages (from dython) (1.7.3)\n",
            "Requirement already satisfied: scikit-learn>=0.24.2 in /usr/local/lib/python3.8/dist-packages (from dython) (1.0.2)\n",
            "Collecting seaborn>=0.12.0\n",
            "  Downloading seaborn-0.12.1-py3-none-any.whl (288 kB)\n",
            "\u001b[K     |████████████████████████████████| 288 kB 81.7 MB/s \n",
            "\u001b[?25hCollecting psutil>=5.9.1\n",
            "  Downloading psutil-5.9.4-cp36-abi3-manylinux_2_12_x86_64.manylinux2010_x86_64.manylinux_2_17_x86_64.manylinux2014_x86_64.whl (280 kB)\n",
            "\u001b[K     |████████████████████████████████| 280 kB 62.1 MB/s \n",
            "\u001b[?25hCollecting scikit-plot>=0.3.7\n",
            "  Downloading scikit_plot-0.3.7-py3-none-any.whl (33 kB)\n",
            "Collecting matplotlib>=3.5.3\n",
            "  Downloading matplotlib-3.6.2-cp38-cp38-manylinux_2_12_x86_64.manylinux2010_x86_64.whl (9.4 MB)\n",
            "\u001b[K     |████████████████████████████████| 9.4 MB 19.1 MB/s \n",
            "\u001b[?25hCollecting numpy>=1.23.0\n",
            "  Downloading numpy-1.24.0-cp38-cp38-manylinux_2_17_x86_64.manylinux2014_x86_64.whl (17.3 MB)\n",
            "\u001b[K     |████████████████████████████████| 17.3 MB 777 kB/s \n",
            "\u001b[?25hRequirement already satisfied: pyparsing>=2.2.1 in /usr/local/lib/python3.8/dist-packages (from matplotlib>=3.5.3->dython) (3.0.9)\n",
            "Requirement already satisfied: pillow>=6.2.0 in /usr/local/lib/python3.8/dist-packages (from matplotlib>=3.5.3->dython) (7.1.2)\n",
            "Collecting fonttools>=4.22.0\n",
            "  Downloading fonttools-4.38.0-py3-none-any.whl (965 kB)\n",
            "\u001b[K     |████████████████████████████████| 965 kB 45.9 MB/s \n",
            "\u001b[?25hRequirement already satisfied: packaging>=20.0 in /usr/local/lib/python3.8/dist-packages (from matplotlib>=3.5.3->dython) (21.3)\n",
            "Collecting contourpy>=1.0.1\n",
            "  Downloading contourpy-1.0.6-cp38-cp38-manylinux_2_17_x86_64.manylinux2014_x86_64.whl (295 kB)\n",
            "\u001b[K     |████████████████████████████████| 295 kB 55.0 MB/s \n",
            "\u001b[?25hRequirement already satisfied: cycler>=0.10 in /usr/local/lib/python3.8/dist-packages (from matplotlib>=3.5.3->dython) (0.11.0)\n",
            "Requirement already satisfied: python-dateutil>=2.7 in /usr/local/lib/python3.8/dist-packages (from matplotlib>=3.5.3->dython) (2.8.2)\n",
            "Requirement already satisfied: kiwisolver>=1.0.1 in /usr/local/lib/python3.8/dist-packages (from matplotlib>=3.5.3->dython) (1.4.4)\n",
            "Requirement already satisfied: pytz>=2020.1 in /usr/local/lib/python3.8/dist-packages (from pandas>=1.4.2->dython) (2022.6)\n",
            "Requirement already satisfied: six>=1.5 in /usr/local/lib/python3.8/dist-packages (from python-dateutil>=2.7->matplotlib>=3.5.3->dython) (1.15.0)\n",
            "Requirement already satisfied: joblib>=0.11 in /usr/local/lib/python3.8/dist-packages (from scikit-learn>=0.24.2->dython) (1.2.0)\n",
            "Requirement already satisfied: threadpoolctl>=2.0.0 in /usr/local/lib/python3.8/dist-packages (from scikit-learn>=0.24.2->dython) (3.1.0)\n",
            "Collecting scipy>=1.7.1\n",
            "  Downloading scipy-1.9.3-cp38-cp38-manylinux_2_17_x86_64.manylinux2014_x86_64.whl (33.8 MB)\n",
            "\u001b[K     |████████████████████████████████| 33.8 MB 324 kB/s \n",
            "\u001b[?25hInstalling collected packages: numpy, scipy, fonttools, contourpy, pandas, matplotlib, seaborn, scikit-plot, psutil, dython\n",
            "  Attempting uninstall: numpy\n",
            "    Found existing installation: numpy 1.21.6\n",
            "    Uninstalling numpy-1.21.6:\n",
            "      Successfully uninstalled numpy-1.21.6\n",
            "  Attempting uninstall: scipy\n",
            "    Found existing installation: scipy 1.7.3\n",
            "    Uninstalling scipy-1.7.3:\n",
            "      Successfully uninstalled scipy-1.7.3\n",
            "  Attempting uninstall: pandas\n",
            "    Found existing installation: pandas 1.3.5\n",
            "    Uninstalling pandas-1.3.5:\n",
            "      Successfully uninstalled pandas-1.3.5\n",
            "  Attempting uninstall: matplotlib\n",
            "    Found existing installation: matplotlib 3.2.2\n",
            "    Uninstalling matplotlib-3.2.2:\n",
            "      Successfully uninstalled matplotlib-3.2.2\n",
            "  Attempting uninstall: seaborn\n",
            "    Found existing installation: seaborn 0.11.2\n",
            "    Uninstalling seaborn-0.11.2:\n",
            "      Successfully uninstalled seaborn-0.11.2\n",
            "  Attempting uninstall: psutil\n",
            "    Found existing installation: psutil 5.4.8\n",
            "    Uninstalling psutil-5.4.8:\n",
            "      Successfully uninstalled psutil-5.4.8\n",
            "\u001b[31mERROR: pip's dependency resolver does not currently take into account all the packages that are installed. This behaviour is the source of the following dependency conflicts.\n",
            "numba 0.56.4 requires numpy<1.24,>=1.18, but you have numpy 1.24.0 which is incompatible.\u001b[0m\n",
            "Successfully installed contourpy-1.0.6 dython-0.7.3 fonttools-4.38.0 matplotlib-3.6.2 numpy-1.24.0 pandas-1.5.2 psutil-5.9.4 scikit-plot-0.3.7 scipy-1.9.3 seaborn-0.12.1\n"
          ]
        },
        {
          "output_type": "display_data",
          "data": {
            "application/vnd.colab-display-data+json": {
              "pip_warning": {
                "packages": [
                  "matplotlib",
                  "mpl_toolkits",
                  "numpy",
                  "psutil"
                ]
              }
            }
          },
          "metadata": {}
        }
      ]
    },
    {
      "cell_type": "code",
      "execution_count": 2,
      "metadata": {
        "id": "X04Hk0khyvCl"
      },
      "outputs": [],
      "source": [
        "# Importing libraries\n",
        "import pandas as pd\n",
        "import numpy as np\n",
        "import matplotlib.pyplot as plt\n",
        "\n",
        "%matplotlib inline"
      ]
    },
    {
      "cell_type": "code",
      "execution_count": 3,
      "metadata": {
        "id": "g8JglFaDTMFT"
      },
      "outputs": [],
      "source": [
        "pd.options.mode.chained_assignment = None"
      ]
    },
    {
      "cell_type": "markdown",
      "metadata": {
        "id": "o47gRIa2TMFU"
      },
      "source": [
        "# **Load the data**"
      ]
    },
    {
      "cell_type": "markdown",
      "metadata": {
        "id": "P-yqqtUmTMFW"
      },
      "source": [
        "Для этого проекта использовался [набор маркетинговых данных](https://www.kaggle.com/datasets/lancengck/marketing-data) из задачи  команды iFood Brain в роли аналитиков данных. Этот набор данных содержит социально-демографические и фирмографические характеристики 2240 клиентов."
      ]
    },
    {
      "cell_type": "code",
      "source": [
        "from google.colab import files\n",
        "\n",
        "uploaded = files.upload()\n",
        "\n",
        "for fn in uploaded.keys():\n",
        "  print('User uploaded file \"{name}\" with length {length} bytes'.format(\n",
        "      name=fn, length=len(uploaded[fn])))"
      ],
      "metadata": {
        "id": "Jx6uAXHQaLpw",
        "outputId": "370d9108-f4c6-489b-bc89-3fdb5745d08f",
        "colab": {
          "base_uri": "https://localhost:8080/",
          "height": 91
        }
      },
      "execution_count": 4,
      "outputs": [
        {
          "output_type": "display_data",
          "data": {
            "text/plain": [
              "<IPython.core.display.HTML object>"
            ],
            "text/html": [
              "\n",
              "     <input type=\"file\" id=\"files-40e77fa8-b20e-4e04-b191-b8e489b4c35d\" name=\"files[]\" multiple disabled\n",
              "        style=\"border:none\" />\n",
              "     <output id=\"result-40e77fa8-b20e-4e04-b191-b8e489b4c35d\">\n",
              "      Upload widget is only available when the cell has been executed in the\n",
              "      current browser session. Please rerun this cell to enable.\n",
              "      </output>\n",
              "      <script>// Copyright 2017 Google LLC\n",
              "//\n",
              "// Licensed under the Apache License, Version 2.0 (the \"License\");\n",
              "// you may not use this file except in compliance with the License.\n",
              "// You may obtain a copy of the License at\n",
              "//\n",
              "//      http://www.apache.org/licenses/LICENSE-2.0\n",
              "//\n",
              "// Unless required by applicable law or agreed to in writing, software\n",
              "// distributed under the License is distributed on an \"AS IS\" BASIS,\n",
              "// WITHOUT WARRANTIES OR CONDITIONS OF ANY KIND, either express or implied.\n",
              "// See the License for the specific language governing permissions and\n",
              "// limitations under the License.\n",
              "\n",
              "/**\n",
              " * @fileoverview Helpers for google.colab Python module.\n",
              " */\n",
              "(function(scope) {\n",
              "function span(text, styleAttributes = {}) {\n",
              "  const element = document.createElement('span');\n",
              "  element.textContent = text;\n",
              "  for (const key of Object.keys(styleAttributes)) {\n",
              "    element.style[key] = styleAttributes[key];\n",
              "  }\n",
              "  return element;\n",
              "}\n",
              "\n",
              "// Max number of bytes which will be uploaded at a time.\n",
              "const MAX_PAYLOAD_SIZE = 100 * 1024;\n",
              "\n",
              "function _uploadFiles(inputId, outputId) {\n",
              "  const steps = uploadFilesStep(inputId, outputId);\n",
              "  const outputElement = document.getElementById(outputId);\n",
              "  // Cache steps on the outputElement to make it available for the next call\n",
              "  // to uploadFilesContinue from Python.\n",
              "  outputElement.steps = steps;\n",
              "\n",
              "  return _uploadFilesContinue(outputId);\n",
              "}\n",
              "\n",
              "// This is roughly an async generator (not supported in the browser yet),\n",
              "// where there are multiple asynchronous steps and the Python side is going\n",
              "// to poll for completion of each step.\n",
              "// This uses a Promise to block the python side on completion of each step,\n",
              "// then passes the result of the previous step as the input to the next step.\n",
              "function _uploadFilesContinue(outputId) {\n",
              "  const outputElement = document.getElementById(outputId);\n",
              "  const steps = outputElement.steps;\n",
              "\n",
              "  const next = steps.next(outputElement.lastPromiseValue);\n",
              "  return Promise.resolve(next.value.promise).then((value) => {\n",
              "    // Cache the last promise value to make it available to the next\n",
              "    // step of the generator.\n",
              "    outputElement.lastPromiseValue = value;\n",
              "    return next.value.response;\n",
              "  });\n",
              "}\n",
              "\n",
              "/**\n",
              " * Generator function which is called between each async step of the upload\n",
              " * process.\n",
              " * @param {string} inputId Element ID of the input file picker element.\n",
              " * @param {string} outputId Element ID of the output display.\n",
              " * @return {!Iterable<!Object>} Iterable of next steps.\n",
              " */\n",
              "function* uploadFilesStep(inputId, outputId) {\n",
              "  const inputElement = document.getElementById(inputId);\n",
              "  inputElement.disabled = false;\n",
              "\n",
              "  const outputElement = document.getElementById(outputId);\n",
              "  outputElement.innerHTML = '';\n",
              "\n",
              "  const pickedPromise = new Promise((resolve) => {\n",
              "    inputElement.addEventListener('change', (e) => {\n",
              "      resolve(e.target.files);\n",
              "    });\n",
              "  });\n",
              "\n",
              "  const cancel = document.createElement('button');\n",
              "  inputElement.parentElement.appendChild(cancel);\n",
              "  cancel.textContent = 'Cancel upload';\n",
              "  const cancelPromise = new Promise((resolve) => {\n",
              "    cancel.onclick = () => {\n",
              "      resolve(null);\n",
              "    };\n",
              "  });\n",
              "\n",
              "  // Wait for the user to pick the files.\n",
              "  const files = yield {\n",
              "    promise: Promise.race([pickedPromise, cancelPromise]),\n",
              "    response: {\n",
              "      action: 'starting',\n",
              "    }\n",
              "  };\n",
              "\n",
              "  cancel.remove();\n",
              "\n",
              "  // Disable the input element since further picks are not allowed.\n",
              "  inputElement.disabled = true;\n",
              "\n",
              "  if (!files) {\n",
              "    return {\n",
              "      response: {\n",
              "        action: 'complete',\n",
              "      }\n",
              "    };\n",
              "  }\n",
              "\n",
              "  for (const file of files) {\n",
              "    const li = document.createElement('li');\n",
              "    li.append(span(file.name, {fontWeight: 'bold'}));\n",
              "    li.append(span(\n",
              "        `(${file.type || 'n/a'}) - ${file.size} bytes, ` +\n",
              "        `last modified: ${\n",
              "            file.lastModifiedDate ? file.lastModifiedDate.toLocaleDateString() :\n",
              "                                    'n/a'} - `));\n",
              "    const percent = span('0% done');\n",
              "    li.appendChild(percent);\n",
              "\n",
              "    outputElement.appendChild(li);\n",
              "\n",
              "    const fileDataPromise = new Promise((resolve) => {\n",
              "      const reader = new FileReader();\n",
              "      reader.onload = (e) => {\n",
              "        resolve(e.target.result);\n",
              "      };\n",
              "      reader.readAsArrayBuffer(file);\n",
              "    });\n",
              "    // Wait for the data to be ready.\n",
              "    let fileData = yield {\n",
              "      promise: fileDataPromise,\n",
              "      response: {\n",
              "        action: 'continue',\n",
              "      }\n",
              "    };\n",
              "\n",
              "    // Use a chunked sending to avoid message size limits. See b/62115660.\n",
              "    let position = 0;\n",
              "    do {\n",
              "      const length = Math.min(fileData.byteLength - position, MAX_PAYLOAD_SIZE);\n",
              "      const chunk = new Uint8Array(fileData, position, length);\n",
              "      position += length;\n",
              "\n",
              "      const base64 = btoa(String.fromCharCode.apply(null, chunk));\n",
              "      yield {\n",
              "        response: {\n",
              "          action: 'append',\n",
              "          file: file.name,\n",
              "          data: base64,\n",
              "        },\n",
              "      };\n",
              "\n",
              "      let percentDone = fileData.byteLength === 0 ?\n",
              "          100 :\n",
              "          Math.round((position / fileData.byteLength) * 100);\n",
              "      percent.textContent = `${percentDone}% done`;\n",
              "\n",
              "    } while (position < fileData.byteLength);\n",
              "  }\n",
              "\n",
              "  // All done.\n",
              "  yield {\n",
              "    response: {\n",
              "      action: 'complete',\n",
              "    }\n",
              "  };\n",
              "}\n",
              "\n",
              "scope.google = scope.google || {};\n",
              "scope.google.colab = scope.google.colab || {};\n",
              "scope.google.colab._files = {\n",
              "  _uploadFiles,\n",
              "  _uploadFilesContinue,\n",
              "};\n",
              "})(self);\n",
              "</script> "
            ]
          },
          "metadata": {}
        },
        {
          "output_type": "stream",
          "name": "stdout",
          "text": [
            "Saving marketing_data.csv to marketing_data.csv\n",
            "User uploaded file \"marketing_data.csv\" with length 227054 bytes\n"
          ]
        }
      ]
    },
    {
      "cell_type": "code",
      "execution_count": 5,
      "metadata": {
        "id": "jNqFWr7_yvCo"
      },
      "outputs": [],
      "source": [
        "# Load dataset\n",
        "df = pd.read_csv('marketing_data.csv').iloc[: , 1:]"
      ]
    },
    {
      "cell_type": "code",
      "execution_count": 6,
      "metadata": {
        "id": "qu6956CxyvCo"
      },
      "outputs": [],
      "source": [
        "# Rename Pandas columns to lower case\n",
        "df.columns = df.columns.str.lower()"
      ]
    },
    {
      "cell_type": "code",
      "execution_count": 7,
      "metadata": {
        "id": "E_KZ9gkXyvCq"
      },
      "outputs": [],
      "source": [
        "df = df.applymap(lambda s: s.lower() if type(s) == str else s)"
      ]
    },
    {
      "cell_type": "code",
      "execution_count": 8,
      "metadata": {
        "id": "fxU5UrFAyvCq",
        "outputId": "0f19d9e6-afa5-4407-c830-9746649ffe5c",
        "colab": {
          "base_uri": "https://localhost:8080/",
          "height": 299
        }
      },
      "outputs": [
        {
          "output_type": "execute_result",
          "data": {
            "text/plain": [
              "   year_birth   education marital_status      income   kidhome  teenhome  \\\n",
              "0        1970  graduation       divorced  $84,835.00         0         0   \n",
              "1        1961  graduation         single  $57,091.00         0         0   \n",
              "2        1958  graduation        married  $67,267.00         0         1   \n",
              "3        1967  graduation       together  $32,474.00         1         1   \n",
              "4        1989  graduation         single  $21,474.00         1         0   \n",
              "\n",
              "  dt_customer  recency  mntwines  mntfruits  ...  numstorepurchases  \\\n",
              "0     6/16/14        0       189        104  ...                  6   \n",
              "1     6/15/14        0       464          5  ...                  7   \n",
              "2     5/13/14        0       134         11  ...                  5   \n",
              "3     5/11/14        0        10          0  ...                  2   \n",
              "4      4/8/14        0         6         16  ...                  2   \n",
              "\n",
              "   numwebvisitsmonth  acceptedcmp3  acceptedcmp4  acceptedcmp5  acceptedcmp1  \\\n",
              "0                  1             0             0             0             0   \n",
              "1                  5             0             0             0             0   \n",
              "2                  2             0             0             0             0   \n",
              "3                  7             0             0             0             0   \n",
              "4                  7             1             0             0             0   \n",
              "\n",
              "   acceptedcmp2  response  complain  country  \n",
              "0             0         1         0       sp  \n",
              "1             1         1         0       ca  \n",
              "2             0         0         0       us  \n",
              "3             0         0         0      aus  \n",
              "4             0         1         0       sp  \n",
              "\n",
              "[5 rows x 27 columns]"
            ],
            "text/html": [
              "\n",
              "  <div id=\"df-39c1fb48-9595-4435-a0b1-644a5de296b2\">\n",
              "    <div class=\"colab-df-container\">\n",
              "      <div>\n",
              "<style scoped>\n",
              "    .dataframe tbody tr th:only-of-type {\n",
              "        vertical-align: middle;\n",
              "    }\n",
              "\n",
              "    .dataframe tbody tr th {\n",
              "        vertical-align: top;\n",
              "    }\n",
              "\n",
              "    .dataframe thead th {\n",
              "        text-align: right;\n",
              "    }\n",
              "</style>\n",
              "<table border=\"1\" class=\"dataframe\">\n",
              "  <thead>\n",
              "    <tr style=\"text-align: right;\">\n",
              "      <th></th>\n",
              "      <th>year_birth</th>\n",
              "      <th>education</th>\n",
              "      <th>marital_status</th>\n",
              "      <th>income</th>\n",
              "      <th>kidhome</th>\n",
              "      <th>teenhome</th>\n",
              "      <th>dt_customer</th>\n",
              "      <th>recency</th>\n",
              "      <th>mntwines</th>\n",
              "      <th>mntfruits</th>\n",
              "      <th>...</th>\n",
              "      <th>numstorepurchases</th>\n",
              "      <th>numwebvisitsmonth</th>\n",
              "      <th>acceptedcmp3</th>\n",
              "      <th>acceptedcmp4</th>\n",
              "      <th>acceptedcmp5</th>\n",
              "      <th>acceptedcmp1</th>\n",
              "      <th>acceptedcmp2</th>\n",
              "      <th>response</th>\n",
              "      <th>complain</th>\n",
              "      <th>country</th>\n",
              "    </tr>\n",
              "  </thead>\n",
              "  <tbody>\n",
              "    <tr>\n",
              "      <th>0</th>\n",
              "      <td>1970</td>\n",
              "      <td>graduation</td>\n",
              "      <td>divorced</td>\n",
              "      <td>$84,835.00</td>\n",
              "      <td>0</td>\n",
              "      <td>0</td>\n",
              "      <td>6/16/14</td>\n",
              "      <td>0</td>\n",
              "      <td>189</td>\n",
              "      <td>104</td>\n",
              "      <td>...</td>\n",
              "      <td>6</td>\n",
              "      <td>1</td>\n",
              "      <td>0</td>\n",
              "      <td>0</td>\n",
              "      <td>0</td>\n",
              "      <td>0</td>\n",
              "      <td>0</td>\n",
              "      <td>1</td>\n",
              "      <td>0</td>\n",
              "      <td>sp</td>\n",
              "    </tr>\n",
              "    <tr>\n",
              "      <th>1</th>\n",
              "      <td>1961</td>\n",
              "      <td>graduation</td>\n",
              "      <td>single</td>\n",
              "      <td>$57,091.00</td>\n",
              "      <td>0</td>\n",
              "      <td>0</td>\n",
              "      <td>6/15/14</td>\n",
              "      <td>0</td>\n",
              "      <td>464</td>\n",
              "      <td>5</td>\n",
              "      <td>...</td>\n",
              "      <td>7</td>\n",
              "      <td>5</td>\n",
              "      <td>0</td>\n",
              "      <td>0</td>\n",
              "      <td>0</td>\n",
              "      <td>0</td>\n",
              "      <td>1</td>\n",
              "      <td>1</td>\n",
              "      <td>0</td>\n",
              "      <td>ca</td>\n",
              "    </tr>\n",
              "    <tr>\n",
              "      <th>2</th>\n",
              "      <td>1958</td>\n",
              "      <td>graduation</td>\n",
              "      <td>married</td>\n",
              "      <td>$67,267.00</td>\n",
              "      <td>0</td>\n",
              "      <td>1</td>\n",
              "      <td>5/13/14</td>\n",
              "      <td>0</td>\n",
              "      <td>134</td>\n",
              "      <td>11</td>\n",
              "      <td>...</td>\n",
              "      <td>5</td>\n",
              "      <td>2</td>\n",
              "      <td>0</td>\n",
              "      <td>0</td>\n",
              "      <td>0</td>\n",
              "      <td>0</td>\n",
              "      <td>0</td>\n",
              "      <td>0</td>\n",
              "      <td>0</td>\n",
              "      <td>us</td>\n",
              "    </tr>\n",
              "    <tr>\n",
              "      <th>3</th>\n",
              "      <td>1967</td>\n",
              "      <td>graduation</td>\n",
              "      <td>together</td>\n",
              "      <td>$32,474.00</td>\n",
              "      <td>1</td>\n",
              "      <td>1</td>\n",
              "      <td>5/11/14</td>\n",
              "      <td>0</td>\n",
              "      <td>10</td>\n",
              "      <td>0</td>\n",
              "      <td>...</td>\n",
              "      <td>2</td>\n",
              "      <td>7</td>\n",
              "      <td>0</td>\n",
              "      <td>0</td>\n",
              "      <td>0</td>\n",
              "      <td>0</td>\n",
              "      <td>0</td>\n",
              "      <td>0</td>\n",
              "      <td>0</td>\n",
              "      <td>aus</td>\n",
              "    </tr>\n",
              "    <tr>\n",
              "      <th>4</th>\n",
              "      <td>1989</td>\n",
              "      <td>graduation</td>\n",
              "      <td>single</td>\n",
              "      <td>$21,474.00</td>\n",
              "      <td>1</td>\n",
              "      <td>0</td>\n",
              "      <td>4/8/14</td>\n",
              "      <td>0</td>\n",
              "      <td>6</td>\n",
              "      <td>16</td>\n",
              "      <td>...</td>\n",
              "      <td>2</td>\n",
              "      <td>7</td>\n",
              "      <td>1</td>\n",
              "      <td>0</td>\n",
              "      <td>0</td>\n",
              "      <td>0</td>\n",
              "      <td>0</td>\n",
              "      <td>1</td>\n",
              "      <td>0</td>\n",
              "      <td>sp</td>\n",
              "    </tr>\n",
              "  </tbody>\n",
              "</table>\n",
              "<p>5 rows × 27 columns</p>\n",
              "</div>\n",
              "      <button class=\"colab-df-convert\" onclick=\"convertToInteractive('df-39c1fb48-9595-4435-a0b1-644a5de296b2')\"\n",
              "              title=\"Convert this dataframe to an interactive table.\"\n",
              "              style=\"display:none;\">\n",
              "        \n",
              "  <svg xmlns=\"http://www.w3.org/2000/svg\" height=\"24px\"viewBox=\"0 0 24 24\"\n",
              "       width=\"24px\">\n",
              "    <path d=\"M0 0h24v24H0V0z\" fill=\"none\"/>\n",
              "    <path d=\"M18.56 5.44l.94 2.06.94-2.06 2.06-.94-2.06-.94-.94-2.06-.94 2.06-2.06.94zm-11 1L8.5 8.5l.94-2.06 2.06-.94-2.06-.94L8.5 2.5l-.94 2.06-2.06.94zm10 10l.94 2.06.94-2.06 2.06-.94-2.06-.94-.94-2.06-.94 2.06-2.06.94z\"/><path d=\"M17.41 7.96l-1.37-1.37c-.4-.4-.92-.59-1.43-.59-.52 0-1.04.2-1.43.59L10.3 9.45l-7.72 7.72c-.78.78-.78 2.05 0 2.83L4 21.41c.39.39.9.59 1.41.59.51 0 1.02-.2 1.41-.59l7.78-7.78 2.81-2.81c.8-.78.8-2.07 0-2.86zM5.41 20L4 18.59l7.72-7.72 1.47 1.35L5.41 20z\"/>\n",
              "  </svg>\n",
              "      </button>\n",
              "      \n",
              "  <style>\n",
              "    .colab-df-container {\n",
              "      display:flex;\n",
              "      flex-wrap:wrap;\n",
              "      gap: 12px;\n",
              "    }\n",
              "\n",
              "    .colab-df-convert {\n",
              "      background-color: #E8F0FE;\n",
              "      border: none;\n",
              "      border-radius: 50%;\n",
              "      cursor: pointer;\n",
              "      display: none;\n",
              "      fill: #1967D2;\n",
              "      height: 32px;\n",
              "      padding: 0 0 0 0;\n",
              "      width: 32px;\n",
              "    }\n",
              "\n",
              "    .colab-df-convert:hover {\n",
              "      background-color: #E2EBFA;\n",
              "      box-shadow: 0px 1px 2px rgba(60, 64, 67, 0.3), 0px 1px 3px 1px rgba(60, 64, 67, 0.15);\n",
              "      fill: #174EA6;\n",
              "    }\n",
              "\n",
              "    [theme=dark] .colab-df-convert {\n",
              "      background-color: #3B4455;\n",
              "      fill: #D2E3FC;\n",
              "    }\n",
              "\n",
              "    [theme=dark] .colab-df-convert:hover {\n",
              "      background-color: #434B5C;\n",
              "      box-shadow: 0px 1px 3px 1px rgba(0, 0, 0, 0.15);\n",
              "      filter: drop-shadow(0px 1px 2px rgba(0, 0, 0, 0.3));\n",
              "      fill: #FFFFFF;\n",
              "    }\n",
              "  </style>\n",
              "\n",
              "      <script>\n",
              "        const buttonEl =\n",
              "          document.querySelector('#df-39c1fb48-9595-4435-a0b1-644a5de296b2 button.colab-df-convert');\n",
              "        buttonEl.style.display =\n",
              "          google.colab.kernel.accessAllowed ? 'block' : 'none';\n",
              "\n",
              "        async function convertToInteractive(key) {\n",
              "          const element = document.querySelector('#df-39c1fb48-9595-4435-a0b1-644a5de296b2');\n",
              "          const dataTable =\n",
              "            await google.colab.kernel.invokeFunction('convertToInteractive',\n",
              "                                                     [key], {});\n",
              "          if (!dataTable) return;\n",
              "\n",
              "          const docLinkHtml = 'Like what you see? Visit the ' +\n",
              "            '<a target=\"_blank\" href=https://colab.research.google.com/notebooks/data_table.ipynb>data table notebook</a>'\n",
              "            + ' to learn more about interactive tables.';\n",
              "          element.innerHTML = '';\n",
              "          dataTable['output_type'] = 'display_data';\n",
              "          await google.colab.output.renderOutput(dataTable, element);\n",
              "          const docLink = document.createElement('div');\n",
              "          docLink.innerHTML = docLinkHtml;\n",
              "          element.appendChild(docLink);\n",
              "        }\n",
              "      </script>\n",
              "    </div>\n",
              "  </div>\n",
              "  "
            ]
          },
          "metadata": {},
          "execution_count": 8
        }
      ],
      "source": [
        "# Examine the data\n",
        "df.head()"
      ]
    },
    {
      "cell_type": "code",
      "execution_count": 9,
      "metadata": {
        "id": "4TxG0erDyvCr",
        "outputId": "ae602dec-f9b7-4018-b9d4-e8f9f6693acc",
        "colab": {
          "base_uri": "https://localhost:8080/"
        }
      },
      "outputs": [
        {
          "output_type": "stream",
          "name": "stdout",
          "text": [
            "<class 'pandas.core.frame.DataFrame'>\n",
            "RangeIndex: 2240 entries, 0 to 2239\n",
            "Data columns (total 27 columns):\n",
            " #   Column               Non-Null Count  Dtype \n",
            "---  ------               --------------  ----- \n",
            " 0   year_birth           2240 non-null   int64 \n",
            " 1   education            2240 non-null   object\n",
            " 2   marital_status       2240 non-null   object\n",
            " 3    income              2216 non-null   object\n",
            " 4   kidhome              2240 non-null   int64 \n",
            " 5   teenhome             2240 non-null   int64 \n",
            " 6   dt_customer          2240 non-null   object\n",
            " 7   recency              2240 non-null   int64 \n",
            " 8   mntwines             2240 non-null   int64 \n",
            " 9   mntfruits            2240 non-null   int64 \n",
            " 10  mntmeatproducts      2240 non-null   int64 \n",
            " 11  mntfishproducts      2240 non-null   int64 \n",
            " 12  mntsweetproducts     2240 non-null   int64 \n",
            " 13  mntgoldprods         2240 non-null   int64 \n",
            " 14  numdealspurchases    2240 non-null   int64 \n",
            " 15  numwebpurchases      2240 non-null   int64 \n",
            " 16  numcatalogpurchases  2240 non-null   int64 \n",
            " 17  numstorepurchases    2240 non-null   int64 \n",
            " 18  numwebvisitsmonth    2240 non-null   int64 \n",
            " 19  acceptedcmp3         2240 non-null   int64 \n",
            " 20  acceptedcmp4         2240 non-null   int64 \n",
            " 21  acceptedcmp5         2240 non-null   int64 \n",
            " 22  acceptedcmp1         2240 non-null   int64 \n",
            " 23  acceptedcmp2         2240 non-null   int64 \n",
            " 24  response             2240 non-null   int64 \n",
            " 25  complain             2240 non-null   int64 \n",
            " 26  country              2240 non-null   object\n",
            "dtypes: int64(22), object(5)\n",
            "memory usage: 472.6+ KB\n"
          ]
        }
      ],
      "source": [
        "# Overview of all variables, their datatypes\n",
        "df.info()"
      ]
    },
    {
      "cell_type": "markdown",
      "metadata": {
        "id": "HondTqjsTMFf"
      },
      "source": [
        "# **Preprocess the data**"
      ]
    },
    {
      "cell_type": "code",
      "source": [
        "import plotly.express as px"
      ],
      "metadata": {
        "id": "og-uRMDu_OsM"
      },
      "execution_count": 54,
      "outputs": []
    },
    {
      "cell_type": "code",
      "execution_count": 10,
      "metadata": {
        "id": "n868ZhQt0e9D"
      },
      "outputs": [],
      "source": [
        "# Clean up column names that contain whitespace\n",
        "df.columns = df.columns.str.replace(' ', '')"
      ]
    },
    {
      "cell_type": "code",
      "execution_count": 11,
      "metadata": {
        "id": "NhBMd6ApzhZ9",
        "outputId": "fe71d919-55e7-48f5-8dad-767e112327de",
        "colab": {
          "base_uri": "https://localhost:8080/"
        }
      },
      "outputs": [
        {
          "output_type": "stream",
          "name": "stderr",
          "text": [
            "<ipython-input-11-9894eb322af8>:2: FutureWarning: The default value of regex will change from True to False in a future version. In addition, single character regular expressions will *not* be treated as literal strings when regex=True.\n",
            "  df['income'] = df['income'].str.replace(',','').str.replace('$','').astype('float')\n"
          ]
        }
      ],
      "source": [
        "# Transform income column to a numerical\n",
        "df['income'] = df['income'].str.replace(',','').str.replace('$','').astype('float')"
      ]
    },
    {
      "cell_type": "code",
      "execution_count": 12,
      "metadata": {
        "id": "ABfnshaayvCs"
      },
      "outputs": [],
      "source": [
        "import datetime "
      ]
    },
    {
      "cell_type": "code",
      "execution_count": 13,
      "metadata": {
        "id": "GR_F9Te0yvCt",
        "outputId": "c9ac11eb-8f3a-4f82-d3bf-dd27c133bc62",
        "colab": {
          "base_uri": "https://localhost:8080/"
        }
      },
      "outputs": [
        {
          "output_type": "execute_result",
          "data": {
            "text/plain": [
              "2022"
            ]
          },
          "metadata": {},
          "execution_count": 13
        }
      ],
      "source": [
        "current_year = datetime.date.today().year\n",
        "current_year"
      ]
    },
    {
      "cell_type": "code",
      "execution_count": 14,
      "metadata": {
        "id": "h2pbrX24yvCt"
      },
      "outputs": [],
      "source": [
        "# Replace 'year_birth' with 'age'\n",
        "df['age'] = current_year - df['year_birth']"
      ]
    },
    {
      "cell_type": "code",
      "execution_count": 15,
      "metadata": {
        "id": "JDm-JgANyvC0",
        "outputId": "3108ae68-dc92-4cbc-9b15-a14a51a585c1",
        "colab": {
          "base_uri": "https://localhost:8080/"
        }
      },
      "outputs": [
        {
          "output_type": "stream",
          "name": "stderr",
          "text": [
            "<ipython-input-15-3e479ab1ed3d>:2: FutureWarning: The parsing of 'now' in pd.to_datetime without `utc=True` is deprecated. In a future version, this will match Timestamp('now') and Timestamp.now()\n",
            "  df['enrollment_month'] = (pd.to_datetime('now') - pd.to_datetime(df['dt_customer'])) // np.timedelta64(1,'M')\n"
          ]
        }
      ],
      "source": [
        "# Modify date of enrollment to total number of months since enrollment\n",
        "df['enrollment_month'] = (pd.to_datetime('now') - pd.to_datetime(df['dt_customer'])) // np.timedelta64(1,'M')  "
      ]
    },
    {
      "cell_type": "code",
      "execution_count": 16,
      "metadata": {
        "id": "k_jceB2-TMFr"
      },
      "outputs": [],
      "source": [
        "# Rename the column 'response'\n",
        "df = df.rename(columns = {'response': 'acceptedcmp6'})"
      ]
    },
    {
      "cell_type": "code",
      "execution_count": 17,
      "metadata": {
        "id": "SPlHqB4RyvCu"
      },
      "outputs": [],
      "source": [
        "# Drop unnecessary columns\n",
        "df = df.drop(['year_birth', 'dt_customer'], axis = 1)"
      ]
    },
    {
      "cell_type": "code",
      "execution_count": 18,
      "metadata": {
        "id": "qvE1A-H8yvCv",
        "outputId": "f97a4702-420a-485a-cd00-1e008e2f23ae",
        "colab": {
          "base_uri": "https://localhost:8080/",
          "height": 394
        }
      },
      "outputs": [
        {
          "output_type": "execute_result",
          "data": {
            "text/plain": [
              "              income      kidhome     teenhome      recency     mntwines  \\\n",
              "count    2216.000000  2240.000000  2240.000000  2240.000000  2240.000000   \n",
              "mean    52247.251354     0.444196     0.506250    49.109375   303.935714   \n",
              "std     25173.076661     0.538398     0.544538    28.962453   336.597393   \n",
              "min      1730.000000     0.000000     0.000000     0.000000     0.000000   \n",
              "25%     35303.000000     0.000000     0.000000    24.000000    23.750000   \n",
              "50%     51381.500000     0.000000     0.000000    49.000000   173.500000   \n",
              "75%     68522.000000     1.000000     1.000000    74.000000   504.250000   \n",
              "max    666666.000000     2.000000     2.000000    99.000000  1493.000000   \n",
              "\n",
              "         mntfruits  mntmeatproducts  mntfishproducts  mntsweetproducts  \\\n",
              "count  2240.000000      2240.000000      2240.000000       2240.000000   \n",
              "mean     26.302232       166.950000        37.525446         27.062946   \n",
              "std      39.773434       225.715373        54.628979         41.280498   \n",
              "min       0.000000         0.000000         0.000000          0.000000   \n",
              "25%       1.000000        16.000000         3.000000          1.000000   \n",
              "50%       8.000000        67.000000        12.000000          8.000000   \n",
              "75%      33.000000       232.000000        50.000000         33.000000   \n",
              "max     199.000000      1725.000000       259.000000        263.000000   \n",
              "\n",
              "       mntgoldprods  ...  numwebvisitsmonth  acceptedcmp3  acceptedcmp4  \\\n",
              "count   2240.000000  ...        2240.000000   2240.000000   2240.000000   \n",
              "mean      44.021875  ...           5.316518      0.072768      0.074554   \n",
              "std       52.167439  ...           2.426645      0.259813      0.262728   \n",
              "min        0.000000  ...           0.000000      0.000000      0.000000   \n",
              "25%        9.000000  ...           3.000000      0.000000      0.000000   \n",
              "50%       24.000000  ...           6.000000      0.000000      0.000000   \n",
              "75%       56.000000  ...           7.000000      0.000000      0.000000   \n",
              "max      362.000000  ...          20.000000      1.000000      1.000000   \n",
              "\n",
              "       acceptedcmp5  acceptedcmp1  acceptedcmp2  acceptedcmp6     complain  \\\n",
              "count   2240.000000   2240.000000   2240.000000   2240.000000  2240.000000   \n",
              "mean       0.072768      0.064286      0.013393      0.149107     0.009375   \n",
              "std        0.259813      0.245316      0.114976      0.356274     0.096391   \n",
              "min        0.000000      0.000000      0.000000      0.000000     0.000000   \n",
              "25%        0.000000      0.000000      0.000000      0.000000     0.000000   \n",
              "50%        0.000000      0.000000      0.000000      0.000000     0.000000   \n",
              "75%        0.000000      0.000000      0.000000      0.000000     0.000000   \n",
              "max        1.000000      1.000000      1.000000      1.000000     1.000000   \n",
              "\n",
              "               age  enrollment_month  \n",
              "count  2240.000000       2240.000000  \n",
              "mean     53.194196        112.937054  \n",
              "std      11.984069          6.655168  \n",
              "min      26.000000        101.000000  \n",
              "25%      45.000000        107.000000  \n",
              "50%      52.000000        113.000000  \n",
              "75%      63.000000        119.000000  \n",
              "max     129.000000        124.000000  \n",
              "\n",
              "[8 rows x 24 columns]"
            ],
            "text/html": [
              "\n",
              "  <div id=\"df-36a47560-04f0-45fe-a151-fdceaf5b5595\">\n",
              "    <div class=\"colab-df-container\">\n",
              "      <div>\n",
              "<style scoped>\n",
              "    .dataframe tbody tr th:only-of-type {\n",
              "        vertical-align: middle;\n",
              "    }\n",
              "\n",
              "    .dataframe tbody tr th {\n",
              "        vertical-align: top;\n",
              "    }\n",
              "\n",
              "    .dataframe thead th {\n",
              "        text-align: right;\n",
              "    }\n",
              "</style>\n",
              "<table border=\"1\" class=\"dataframe\">\n",
              "  <thead>\n",
              "    <tr style=\"text-align: right;\">\n",
              "      <th></th>\n",
              "      <th>income</th>\n",
              "      <th>kidhome</th>\n",
              "      <th>teenhome</th>\n",
              "      <th>recency</th>\n",
              "      <th>mntwines</th>\n",
              "      <th>mntfruits</th>\n",
              "      <th>mntmeatproducts</th>\n",
              "      <th>mntfishproducts</th>\n",
              "      <th>mntsweetproducts</th>\n",
              "      <th>mntgoldprods</th>\n",
              "      <th>...</th>\n",
              "      <th>numwebvisitsmonth</th>\n",
              "      <th>acceptedcmp3</th>\n",
              "      <th>acceptedcmp4</th>\n",
              "      <th>acceptedcmp5</th>\n",
              "      <th>acceptedcmp1</th>\n",
              "      <th>acceptedcmp2</th>\n",
              "      <th>acceptedcmp6</th>\n",
              "      <th>complain</th>\n",
              "      <th>age</th>\n",
              "      <th>enrollment_month</th>\n",
              "    </tr>\n",
              "  </thead>\n",
              "  <tbody>\n",
              "    <tr>\n",
              "      <th>count</th>\n",
              "      <td>2216.000000</td>\n",
              "      <td>2240.000000</td>\n",
              "      <td>2240.000000</td>\n",
              "      <td>2240.000000</td>\n",
              "      <td>2240.000000</td>\n",
              "      <td>2240.000000</td>\n",
              "      <td>2240.000000</td>\n",
              "      <td>2240.000000</td>\n",
              "      <td>2240.000000</td>\n",
              "      <td>2240.000000</td>\n",
              "      <td>...</td>\n",
              "      <td>2240.000000</td>\n",
              "      <td>2240.000000</td>\n",
              "      <td>2240.000000</td>\n",
              "      <td>2240.000000</td>\n",
              "      <td>2240.000000</td>\n",
              "      <td>2240.000000</td>\n",
              "      <td>2240.000000</td>\n",
              "      <td>2240.000000</td>\n",
              "      <td>2240.000000</td>\n",
              "      <td>2240.000000</td>\n",
              "    </tr>\n",
              "    <tr>\n",
              "      <th>mean</th>\n",
              "      <td>52247.251354</td>\n",
              "      <td>0.444196</td>\n",
              "      <td>0.506250</td>\n",
              "      <td>49.109375</td>\n",
              "      <td>303.935714</td>\n",
              "      <td>26.302232</td>\n",
              "      <td>166.950000</td>\n",
              "      <td>37.525446</td>\n",
              "      <td>27.062946</td>\n",
              "      <td>44.021875</td>\n",
              "      <td>...</td>\n",
              "      <td>5.316518</td>\n",
              "      <td>0.072768</td>\n",
              "      <td>0.074554</td>\n",
              "      <td>0.072768</td>\n",
              "      <td>0.064286</td>\n",
              "      <td>0.013393</td>\n",
              "      <td>0.149107</td>\n",
              "      <td>0.009375</td>\n",
              "      <td>53.194196</td>\n",
              "      <td>112.937054</td>\n",
              "    </tr>\n",
              "    <tr>\n",
              "      <th>std</th>\n",
              "      <td>25173.076661</td>\n",
              "      <td>0.538398</td>\n",
              "      <td>0.544538</td>\n",
              "      <td>28.962453</td>\n",
              "      <td>336.597393</td>\n",
              "      <td>39.773434</td>\n",
              "      <td>225.715373</td>\n",
              "      <td>54.628979</td>\n",
              "      <td>41.280498</td>\n",
              "      <td>52.167439</td>\n",
              "      <td>...</td>\n",
              "      <td>2.426645</td>\n",
              "      <td>0.259813</td>\n",
              "      <td>0.262728</td>\n",
              "      <td>0.259813</td>\n",
              "      <td>0.245316</td>\n",
              "      <td>0.114976</td>\n",
              "      <td>0.356274</td>\n",
              "      <td>0.096391</td>\n",
              "      <td>11.984069</td>\n",
              "      <td>6.655168</td>\n",
              "    </tr>\n",
              "    <tr>\n",
              "      <th>min</th>\n",
              "      <td>1730.000000</td>\n",
              "      <td>0.000000</td>\n",
              "      <td>0.000000</td>\n",
              "      <td>0.000000</td>\n",
              "      <td>0.000000</td>\n",
              "      <td>0.000000</td>\n",
              "      <td>0.000000</td>\n",
              "      <td>0.000000</td>\n",
              "      <td>0.000000</td>\n",
              "      <td>0.000000</td>\n",
              "      <td>...</td>\n",
              "      <td>0.000000</td>\n",
              "      <td>0.000000</td>\n",
              "      <td>0.000000</td>\n",
              "      <td>0.000000</td>\n",
              "      <td>0.000000</td>\n",
              "      <td>0.000000</td>\n",
              "      <td>0.000000</td>\n",
              "      <td>0.000000</td>\n",
              "      <td>26.000000</td>\n",
              "      <td>101.000000</td>\n",
              "    </tr>\n",
              "    <tr>\n",
              "      <th>25%</th>\n",
              "      <td>35303.000000</td>\n",
              "      <td>0.000000</td>\n",
              "      <td>0.000000</td>\n",
              "      <td>24.000000</td>\n",
              "      <td>23.750000</td>\n",
              "      <td>1.000000</td>\n",
              "      <td>16.000000</td>\n",
              "      <td>3.000000</td>\n",
              "      <td>1.000000</td>\n",
              "      <td>9.000000</td>\n",
              "      <td>...</td>\n",
              "      <td>3.000000</td>\n",
              "      <td>0.000000</td>\n",
              "      <td>0.000000</td>\n",
              "      <td>0.000000</td>\n",
              "      <td>0.000000</td>\n",
              "      <td>0.000000</td>\n",
              "      <td>0.000000</td>\n",
              "      <td>0.000000</td>\n",
              "      <td>45.000000</td>\n",
              "      <td>107.000000</td>\n",
              "    </tr>\n",
              "    <tr>\n",
              "      <th>50%</th>\n",
              "      <td>51381.500000</td>\n",
              "      <td>0.000000</td>\n",
              "      <td>0.000000</td>\n",
              "      <td>49.000000</td>\n",
              "      <td>173.500000</td>\n",
              "      <td>8.000000</td>\n",
              "      <td>67.000000</td>\n",
              "      <td>12.000000</td>\n",
              "      <td>8.000000</td>\n",
              "      <td>24.000000</td>\n",
              "      <td>...</td>\n",
              "      <td>6.000000</td>\n",
              "      <td>0.000000</td>\n",
              "      <td>0.000000</td>\n",
              "      <td>0.000000</td>\n",
              "      <td>0.000000</td>\n",
              "      <td>0.000000</td>\n",
              "      <td>0.000000</td>\n",
              "      <td>0.000000</td>\n",
              "      <td>52.000000</td>\n",
              "      <td>113.000000</td>\n",
              "    </tr>\n",
              "    <tr>\n",
              "      <th>75%</th>\n",
              "      <td>68522.000000</td>\n",
              "      <td>1.000000</td>\n",
              "      <td>1.000000</td>\n",
              "      <td>74.000000</td>\n",
              "      <td>504.250000</td>\n",
              "      <td>33.000000</td>\n",
              "      <td>232.000000</td>\n",
              "      <td>50.000000</td>\n",
              "      <td>33.000000</td>\n",
              "      <td>56.000000</td>\n",
              "      <td>...</td>\n",
              "      <td>7.000000</td>\n",
              "      <td>0.000000</td>\n",
              "      <td>0.000000</td>\n",
              "      <td>0.000000</td>\n",
              "      <td>0.000000</td>\n",
              "      <td>0.000000</td>\n",
              "      <td>0.000000</td>\n",
              "      <td>0.000000</td>\n",
              "      <td>63.000000</td>\n",
              "      <td>119.000000</td>\n",
              "    </tr>\n",
              "    <tr>\n",
              "      <th>max</th>\n",
              "      <td>666666.000000</td>\n",
              "      <td>2.000000</td>\n",
              "      <td>2.000000</td>\n",
              "      <td>99.000000</td>\n",
              "      <td>1493.000000</td>\n",
              "      <td>199.000000</td>\n",
              "      <td>1725.000000</td>\n",
              "      <td>259.000000</td>\n",
              "      <td>263.000000</td>\n",
              "      <td>362.000000</td>\n",
              "      <td>...</td>\n",
              "      <td>20.000000</td>\n",
              "      <td>1.000000</td>\n",
              "      <td>1.000000</td>\n",
              "      <td>1.000000</td>\n",
              "      <td>1.000000</td>\n",
              "      <td>1.000000</td>\n",
              "      <td>1.000000</td>\n",
              "      <td>1.000000</td>\n",
              "      <td>129.000000</td>\n",
              "      <td>124.000000</td>\n",
              "    </tr>\n",
              "  </tbody>\n",
              "</table>\n",
              "<p>8 rows × 24 columns</p>\n",
              "</div>\n",
              "      <button class=\"colab-df-convert\" onclick=\"convertToInteractive('df-36a47560-04f0-45fe-a151-fdceaf5b5595')\"\n",
              "              title=\"Convert this dataframe to an interactive table.\"\n",
              "              style=\"display:none;\">\n",
              "        \n",
              "  <svg xmlns=\"http://www.w3.org/2000/svg\" height=\"24px\"viewBox=\"0 0 24 24\"\n",
              "       width=\"24px\">\n",
              "    <path d=\"M0 0h24v24H0V0z\" fill=\"none\"/>\n",
              "    <path d=\"M18.56 5.44l.94 2.06.94-2.06 2.06-.94-2.06-.94-.94-2.06-.94 2.06-2.06.94zm-11 1L8.5 8.5l.94-2.06 2.06-.94-2.06-.94L8.5 2.5l-.94 2.06-2.06.94zm10 10l.94 2.06.94-2.06 2.06-.94-2.06-.94-.94-2.06-.94 2.06-2.06.94z\"/><path d=\"M17.41 7.96l-1.37-1.37c-.4-.4-.92-.59-1.43-.59-.52 0-1.04.2-1.43.59L10.3 9.45l-7.72 7.72c-.78.78-.78 2.05 0 2.83L4 21.41c.39.39.9.59 1.41.59.51 0 1.02-.2 1.41-.59l7.78-7.78 2.81-2.81c.8-.78.8-2.07 0-2.86zM5.41 20L4 18.59l7.72-7.72 1.47 1.35L5.41 20z\"/>\n",
              "  </svg>\n",
              "      </button>\n",
              "      \n",
              "  <style>\n",
              "    .colab-df-container {\n",
              "      display:flex;\n",
              "      flex-wrap:wrap;\n",
              "      gap: 12px;\n",
              "    }\n",
              "\n",
              "    .colab-df-convert {\n",
              "      background-color: #E8F0FE;\n",
              "      border: none;\n",
              "      border-radius: 50%;\n",
              "      cursor: pointer;\n",
              "      display: none;\n",
              "      fill: #1967D2;\n",
              "      height: 32px;\n",
              "      padding: 0 0 0 0;\n",
              "      width: 32px;\n",
              "    }\n",
              "\n",
              "    .colab-df-convert:hover {\n",
              "      background-color: #E2EBFA;\n",
              "      box-shadow: 0px 1px 2px rgba(60, 64, 67, 0.3), 0px 1px 3px 1px rgba(60, 64, 67, 0.15);\n",
              "      fill: #174EA6;\n",
              "    }\n",
              "\n",
              "    [theme=dark] .colab-df-convert {\n",
              "      background-color: #3B4455;\n",
              "      fill: #D2E3FC;\n",
              "    }\n",
              "\n",
              "    [theme=dark] .colab-df-convert:hover {\n",
              "      background-color: #434B5C;\n",
              "      box-shadow: 0px 1px 3px 1px rgba(0, 0, 0, 0.15);\n",
              "      filter: drop-shadow(0px 1px 2px rgba(0, 0, 0, 0.3));\n",
              "      fill: #FFFFFF;\n",
              "    }\n",
              "  </style>\n",
              "\n",
              "      <script>\n",
              "        const buttonEl =\n",
              "          document.querySelector('#df-36a47560-04f0-45fe-a151-fdceaf5b5595 button.colab-df-convert');\n",
              "        buttonEl.style.display =\n",
              "          google.colab.kernel.accessAllowed ? 'block' : 'none';\n",
              "\n",
              "        async function convertToInteractive(key) {\n",
              "          const element = document.querySelector('#df-36a47560-04f0-45fe-a151-fdceaf5b5595');\n",
              "          const dataTable =\n",
              "            await google.colab.kernel.invokeFunction('convertToInteractive',\n",
              "                                                     [key], {});\n",
              "          if (!dataTable) return;\n",
              "\n",
              "          const docLinkHtml = 'Like what you see? Visit the ' +\n",
              "            '<a target=\"_blank\" href=https://colab.research.google.com/notebooks/data_table.ipynb>data table notebook</a>'\n",
              "            + ' to learn more about interactive tables.';\n",
              "          element.innerHTML = '';\n",
              "          dataTable['output_type'] = 'display_data';\n",
              "          await google.colab.output.renderOutput(dataTable, element);\n",
              "          const docLink = document.createElement('div');\n",
              "          docLink.innerHTML = docLinkHtml;\n",
              "          element.appendChild(docLink);\n",
              "        }\n",
              "      </script>\n",
              "    </div>\n",
              "  </div>\n",
              "  "
            ]
          },
          "metadata": {},
          "execution_count": 18
        }
      ],
      "source": [
        "df.describe()"
      ]
    },
    {
      "cell_type": "markdown",
      "metadata": {
        "id": "vUCQehRKTMFv"
      },
      "source": [
        "Мы можем выделить некоторые выбросы как по возрасту, так и по доходу. Похоже, у нас есть клиенты, которым больше 100 лет, или их доход на семью превышает 600 000 долларов США!"
      ]
    },
    {
      "cell_type": "code",
      "source": [
        "!pip install gitly"
      ],
      "metadata": {
        "id": "0HZ38Outa1bD",
        "outputId": "bd9c01f4-ef26-4f2f-e6c2-f9701db490ab",
        "colab": {
          "base_uri": "https://localhost:8080/"
        }
      },
      "execution_count": 19,
      "outputs": [
        {
          "output_type": "stream",
          "name": "stdout",
          "text": [
            "Looking in indexes: https://pypi.org/simple, https://us-python.pkg.dev/colab-wheels/public/simple/\n",
            "Collecting gitly\n",
            "  Downloading gitly-1.1.4.tar.gz (4.4 kB)\n",
            "Requirement already satisfied: plotly>=4.9.0 in /usr/local/lib/python3.8/dist-packages (from gitly) (5.5.0)\n",
            "Collecting kaleido\n",
            "  Downloading kaleido-0.2.1-py2.py3-none-manylinux1_x86_64.whl (79.9 MB)\n",
            "\u001b[K     |████████████████████████████████| 79.9 MB 144 kB/s \n",
            "\u001b[?25hRequirement already satisfied: six in /usr/local/lib/python3.8/dist-packages (from plotly>=4.9.0->gitly) (1.15.0)\n",
            "Requirement already satisfied: tenacity>=6.2.0 in /usr/local/lib/python3.8/dist-packages (from plotly>=4.9.0->gitly) (8.1.0)\n",
            "Building wheels for collected packages: gitly\n",
            "  Building wheel for gitly (setup.py) ... \u001b[?25l\u001b[?25hdone\n",
            "  Created wheel for gitly: filename=gitly-1.1.4-py3-none-any.whl size=4525 sha256=4a3b0f20f85d256d6c819981b00637be9010757317231f11c46faf67cb0e7ad0\n",
            "  Stored in directory: /root/.cache/pip/wheels/54/21/4c/a87ca104a4a1d849e46681418c05fe9e8d6a64380505ce4242\n",
            "Successfully built gitly\n",
            "Installing collected packages: kaleido, gitly\n",
            "Successfully installed gitly-1.1.4 kaleido-0.2.1\n"
          ]
        }
      ]
    },
    {
      "cell_type": "code",
      "execution_count": 20,
      "metadata": {
        "id": "CgIIfTwjyvCw"
      },
      "outputs": [],
      "source": [
        "from plotly.subplots import make_subplots\n",
        "import plotly.graph_objects as go\n",
        "from gitly.colab.plot import GitlyPlotter"
      ]
    },
    {
      "cell_type": "code",
      "execution_count": 21,
      "metadata": {
        "id": "TDqMLoVeTMFz"
      },
      "outputs": [],
      "source": [
        "gitly = GitlyPlotter('github')"
      ]
    },
    {
      "cell_type": "code",
      "execution_count": 22,
      "metadata": {
        "id": "CoTTcy97TMF0",
        "outputId": "25fe06b9-f8a5-4c9d-984e-3222a13513a0",
        "colab": {
          "base_uri": "https://localhost:8080/",
          "height": 467
        }
      },
      "outputs": [
        {
          "output_type": "execute_result",
          "data": {
            "image/png": "[encoded data removed]",
            "text/plain": [
              "<IPython.core.display.Image object>"
            ]
          },
          "metadata": {},
          "execution_count": 22
        }
      ],
      "source": [
        "fig = make_subplots(rows = 1, cols = 2)\n",
        "\n",
        "fig.add_trace(go.Box(y = df['age'], name = 'age'), row = 1, col = 1)\n",
        "fig.add_trace(go.Box(y = df['income'], name = 'income'), row = 1, col = 2)\n",
        "\n",
        "fig.update_layout(showlegend = False)\n",
        "\n",
        "gitly.show(fig)"
      ]
    },
    {
      "cell_type": "markdown",
      "metadata": {
        "id": "0ZGcfytMTMF0"
      },
      "source": [
        "У нас есть 4 клиента, которые являются исключениями. Один из них зарабатывает 666 666 долларов США, а троим из них больше 100 лет!"
      ]
    },
    {
      "cell_type": "code",
      "execution_count": 23,
      "metadata": {
        "id": "tI3uQ2WyyvCx"
      },
      "outputs": [],
      "source": [
        "# Find outliers\n",
        "outliers_age = df[df['age'] > 100].index\n",
        "\n",
        "# Remove outliers\n",
        "df.drop(outliers_age, inplace = True)"
      ]
    },
    {
      "cell_type": "code",
      "execution_count": 24,
      "metadata": {
        "id": "sK2nDA1XyvCy"
      },
      "outputs": [],
      "source": [
        "# Find outlier\n",
        "outliers_income = df[df['income'] > 200000].index\n",
        "\n",
        "# Remove outlier\n",
        "df.drop(outliers_income, inplace = True)"
      ]
    },
    {
      "cell_type": "code",
      "execution_count": 25,
      "metadata": {
        "id": "4ak-Z2MxyvC1",
        "outputId": "f0ec622e-c0d2-4825-8e99-9f7d0a2aea47",
        "colab": {
          "base_uri": "https://localhost:8080/"
        }
      },
      "outputs": [
        {
          "output_type": "execute_result",
          "data": {
            "text/plain": [
              "graduation    1126\n",
              "phd            485\n",
              "master         370\n",
              "2n cycle       201\n",
              "basic           54\n",
              "Name: education, dtype: int64"
            ]
          },
          "metadata": {},
          "execution_count": 25
        }
      ],
      "source": [
        "df['education'].value_counts()"
      ]
    },
    {
      "cell_type": "markdown",
      "metadata": {
        "id": "q43exHvATMGA"
      },
      "source": [
        "С точки зрения образования, и «2-й цикл», и «магистр» относятся к одному и тому же уровню образования. Это основано на Европейском пространстве высшего образования (EHEA). Поэтому мы объединим два уровня образования под словом «магистр». Кроме того, «выпускной» немного вводит в заблуждение как уровень образования. Мы предположим, что это относится к «бакалавриату» и перефразируем его как таковое."
      ]
    },
    {
      "cell_type": "code",
      "execution_count": 26,
      "metadata": {
        "id": "zJj5kTJ5TMGB"
      },
      "outputs": [],
      "source": [
        "# Replace '2n cycle' with 'master'\n",
        "df['education'] = df['education'].apply(lambda x: 'master' if str(x) == '2n cycle' else str(x))"
      ]
    },
    {
      "cell_type": "code",
      "execution_count": 27,
      "metadata": {
        "id": "7qvJsJiuTMGF"
      },
      "outputs": [],
      "source": [
        "# Replace 'graduation' with 'undergraduate'\n",
        "df['education'] = df['education'].apply(lambda x: 'undergraduate' if str(x) == 'graduation' else str(x))"
      ]
    },
    {
      "cell_type": "code",
      "execution_count": 28,
      "metadata": {
        "id": "gLxgJoeJyvC2",
        "outputId": "8f466746-fd87-469e-c3bd-2fb3ba5b6fa9",
        "colab": {
          "base_uri": "https://localhost:8080/"
        }
      },
      "outputs": [
        {
          "output_type": "execute_result",
          "data": {
            "text/plain": [
              "married     864\n",
              "together    578\n",
              "single      479\n",
              "divorced    231\n",
              "widow        77\n",
              "alone         3\n",
              "yolo          2\n",
              "absurd        2\n",
              "Name: marital_status, dtype: int64"
            ]
          },
          "metadata": {},
          "execution_count": 28
        }
      ],
      "source": [
        "df['marital_status'].value_counts()"
      ]
    },
    {
      "cell_type": "markdown",
      "metadata": {
        "id": "KN4lmYJCTMGI"
      },
      "source": [
        "С точки зрения семейного положения, 'yolo', 'alone', и 'absurd'могут быть истолкованы и приняты как означающие «не замужем», и поэтому эти статусы будут объединены в «холост»."
      ]
    },
    {
      "cell_type": "code",
      "execution_count": 29,
      "metadata": {
        "id": "tzQ6YTfYyvC8"
      },
      "outputs": [],
      "source": [
        "# Merge 'yolo', 'absurd', and 'alone' under 'single'\n",
        "df['marital_status'] = df['marital_status'].apply(lambda x: 'single' if str(x) in ['alone', 'yolo', 'absurd'] else str(x))"
      ]
    },
    {
      "cell_type": "code",
      "execution_count": 30,
      "metadata": {
        "colab": {
          "base_uri": "https://localhost:8080/"
        },
        "id": "kXR7MpQ9TMGK",
        "outputId": "9c53a8ea-477e-4e84-f7ab-998f515e6bd6"
      },
      "outputs": [
        {
          "output_type": "execute_result",
          "data": {
            "text/plain": [
              "sp     1094\n",
              "sa      335\n",
              "ca      268\n",
              "aus     160\n",
              "ind     147\n",
              "ger     120\n",
              "us      109\n",
              "me        3\n",
              "Name: country, dtype: int64"
            ]
          },
          "metadata": {},
          "execution_count": 30
        }
      ],
      "source": [
        "df['country'].value_counts()"
      ]
    },
    {
      "cell_type": "markdown",
      "metadata": {
        "id": "MUmmC9x5TMGK"
      },
      "source": [
        "# **Check for missing values**"
      ]
    },
    {
      "cell_type": "code",
      "execution_count": 31,
      "metadata": {
        "id": "qf0N9ErDyvC-",
        "outputId": "01737a6c-e2c1-4f75-a80f-40ce70b2cb50",
        "colab": {
          "base_uri": "https://localhost:8080/"
        }
      },
      "outputs": [
        {
          "output_type": "execute_result",
          "data": {
            "text/plain": [
              "education               0\n",
              "marital_status          0\n",
              "income                 24\n",
              "kidhome                 0\n",
              "teenhome                0\n",
              "recency                 0\n",
              "mntwines                0\n",
              "mntfruits               0\n",
              "mntmeatproducts         0\n",
              "mntfishproducts         0\n",
              "mntsweetproducts        0\n",
              "mntgoldprods            0\n",
              "numdealspurchases       0\n",
              "numwebpurchases         0\n",
              "numcatalogpurchases     0\n",
              "numstorepurchases       0\n",
              "numwebvisitsmonth       0\n",
              "acceptedcmp3            0\n",
              "acceptedcmp4            0\n",
              "acceptedcmp5            0\n",
              "acceptedcmp1            0\n",
              "acceptedcmp2            0\n",
              "acceptedcmp6            0\n",
              "complain                0\n",
              "country                 0\n",
              "age                     0\n",
              "enrollment_month        0\n",
              "dtype: int64"
            ]
          },
          "metadata": {},
          "execution_count": 31
        }
      ],
      "source": [
        "df.isnull().sum()"
      ]
    },
    {
      "cell_type": "markdown",
      "metadata": {
        "id": "kB8c4UWRTMGM"
      },
      "source": [
        "У нас отсутствуют данные о доходах 24 наших клиентов."
      ]
    },
    {
      "cell_type": "markdown",
      "metadata": {
        "id": "zd2PrUp4TMGN"
      },
      "source": [
        "**Определим X и Y**"
      ]
    },
    {
      "cell_type": "code",
      "execution_count": 32,
      "metadata": {
        "id": "PGcB1NqAyvC_"
      },
      "outputs": [],
      "source": [
        "X = df.drop('numstorepurchases', axis = 1)"
      ]
    },
    {
      "cell_type": "code",
      "execution_count": 33,
      "metadata": {
        "id": "8wdPtdu6yvDA"
      },
      "outputs": [],
      "source": [
        "y = df['numstorepurchases']"
      ]
    },
    {
      "cell_type": "markdown",
      "metadata": {
        "id": "4K1MGWjyTMGQ"
      },
      "source": [
        "**Create test and train data**"
      ]
    },
    {
      "cell_type": "code",
      "source": [
        "from sklearn.model_selection import train_test_split"
      ],
      "metadata": {
        "id": "EoOkHE79AaME"
      },
      "execution_count": null,
      "outputs": []
    },
    {
      "cell_type": "code",
      "execution_count": null,
      "metadata": {
        "id": "6VbeSBkcyvDB"
      },
      "outputs": [],
      "source": [
        "# Isolate X and y variables, and perform train-test split\n",
        "X_train, X_test, y_train, y_test = train_test_split(X, y, test_size = 0.3, random_state = 42)"
      ]
    },
    {
      "cell_type": "code",
      "execution_count": null,
      "metadata": {
        "id": "YCMZlIYbTMGS"
      },
      "outputs": [],
      "source": [
        "from sklearn.compose import ColumnTransformer\n",
        "from sklearn.impute import SimpleImputer"
      ]
    },
    {
      "cell_type": "code",
      "execution_count": null,
      "metadata": {
        "id": "qyWSKBjuTMGT"
      },
      "outputs": [],
      "source": [
        "transformer = ColumnTransformer(transformers = [('simple_imputer', SimpleImputer(strategy = 'median'), ['income'])], remainder = 'passthrough')"
      ]
    },
    {
      "cell_type": "markdown",
      "metadata": {
        "id": "HZzv8tdnTMGT"
      },
      "source": [
        "**Examine collinearity**"
      ]
    },
    {
      "cell_type": "markdown",
      "metadata": {
        "id": "VJcNAvLkTMGU"
      },
      "source": [
        "Включение функций, которые сильно коррелируют друг с другом или являются мультиколлинеарными, добавляет шум и неточность, поэтому нам нужно попытаться уменьшить это.\n",
        "\n",
        "Создание тепловой карты корреляции — хороший способ визуализировать потенциальную коллинеарность. Эмпирическое правило состоит в том, что если корреляция между двумя независимыми переменными больше 0,8, тогда будет существовать мультиколлинеарность."
      ]
    },
    {
      "cell_type": "code",
      "execution_count": null,
      "metadata": {
        "id": "SdXINm1HTMGU"
      },
      "outputs": [],
      "source": [
        "X_tr = transformer.fit_transform(X_train)"
      ]
    },
    {
      "cell_type": "code",
      "execution_count": null,
      "metadata": {
        "id": "TcLydEyGTMGV"
      },
      "outputs": [],
      "source": [
        "X_tr = pd.DataFrame(data = X_tr, columns = X.columns)"
      ]
    },
    {
      "cell_type": "code",
      "execution_count": null,
      "metadata": {
        "id": "r5t0p5pOTMGX"
      },
      "outputs": [],
      "source": [
        "from dython.nominal import associations"
      ]
    },
    {
      "cell_type": "code",
      "execution_count": null,
      "metadata": {
        "id": "apL3HbBwTMGZ"
      },
      "outputs": [],
      "source": [
        "complete_correlation = associations(X_tr, figsize = (32, 16))"
      ]
    },
    {
      "cell_type": "markdown",
      "metadata": {
        "id": "D7be8OVmTMGb"
      },
      "source": [
        "Отсутствие мультиколлинеарности среди независимых переменных."
      ]
    },
    {
      "cell_type": "markdown",
      "metadata": {
        "id": "tbOd8ICqTMGc"
      },
      "source": [
        "# **Какие факторы существенно влияют на количество покупок в магазине?**"
      ]
    },
    {
      "cell_type": "markdown",
      "metadata": {
        "id": "51Bm6RIITMGc"
      },
      "source": [
        "Мы будем использовать модель CatBoostRegressor с numstorepurchases в качестве целевой переменной, а затем использовать методы объяснимости машинного обучения, чтобы получить представление о том, какие функции предсказывают количество покупок в магазине."
      ]
    },
    {
      "cell_type": "markdown",
      "metadata": {
        "id": "HD7HLR69TMGd"
      },
      "source": [
        "Мы создаем конвейер, который меняет любые отсутствующие значения, применяет надежный масштаб к функциям, преобразует любые категориальные функции в числовые, а затем подгоняет модель CatBoostRegressor."
      ]
    },
    {
      "cell_type": "code",
      "source": [
        "!pip install catboost"
      ],
      "metadata": {
        "id": "u_uhQehlex2m",
        "colab": {
          "base_uri": "https://localhost:8080/"
        },
        "outputId": "8becc1c1-7610-49e6-fd95-b3bd55f00026"
      },
      "execution_count": 95,
      "outputs": [
        {
          "output_type": "stream",
          "name": "stdout",
          "text": [
            "Looking in indexes: https://pypi.org/simple, https://us-python.pkg.dev/colab-wheels/public/simple/\n",
            "Collecting catboost\n",
            "  Downloading catboost-1.1.1-cp38-none-manylinux1_x86_64.whl (76.6 MB)\n",
            "\u001b[K     |████████████████████████████████| 76.6 MB 1.3 MB/s \n",
            "\u001b[?25hRequirement already satisfied: graphviz in /usr/local/lib/python3.8/dist-packages (from catboost) (0.10.1)\n",
            "Requirement already satisfied: pandas>=0.24.0 in /usr/local/lib/python3.8/dist-packages (from catboost) (1.5.2)\n",
            "Requirement already satisfied: plotly in /usr/local/lib/python3.8/dist-packages (from catboost) (5.5.0)\n",
            "Requirement already satisfied: numpy>=1.16.0 in /usr/local/lib/python3.8/dist-packages (from catboost) (1.24.0)\n",
            "Requirement already satisfied: six in /usr/local/lib/python3.8/dist-packages (from catboost) (1.15.0)\n",
            "Requirement already satisfied: matplotlib in /usr/local/lib/python3.8/dist-packages (from catboost) (3.6.2)\n",
            "Requirement already satisfied: scipy in /usr/local/lib/python3.8/dist-packages (from catboost) (1.9.3)\n",
            "Requirement already satisfied: python-dateutil>=2.8.1 in /usr/local/lib/python3.8/dist-packages (from pandas>=0.24.0->catboost) (2.8.2)\n",
            "Requirement already satisfied: pytz>=2020.1 in /usr/local/lib/python3.8/dist-packages (from pandas>=0.24.0->catboost) (2022.6)\n",
            "Requirement already satisfied: packaging>=20.0 in /usr/local/lib/python3.8/dist-packages (from matplotlib->catboost) (21.3)\n",
            "Requirement already satisfied: pillow>=6.2.0 in /usr/local/lib/python3.8/dist-packages (from matplotlib->catboost) (7.1.2)\n",
            "Requirement already satisfied: contourpy>=1.0.1 in /usr/local/lib/python3.8/dist-packages (from matplotlib->catboost) (1.0.6)\n",
            "Requirement already satisfied: kiwisolver>=1.0.1 in /usr/local/lib/python3.8/dist-packages (from matplotlib->catboost) (1.4.4)\n",
            "Requirement already satisfied: cycler>=0.10 in /usr/local/lib/python3.8/dist-packages (from matplotlib->catboost) (0.11.0)\n",
            "Requirement already satisfied: fonttools>=4.22.0 in /usr/local/lib/python3.8/dist-packages (from matplotlib->catboost) (4.38.0)\n",
            "Requirement already satisfied: pyparsing>=2.2.1 in /usr/local/lib/python3.8/dist-packages (from matplotlib->catboost) (3.0.9)\n",
            "Requirement already satisfied: tenacity>=6.2.0 in /usr/local/lib/python3.8/dist-packages (from plotly->catboost) (8.1.0)\n",
            "Installing collected packages: catboost\n",
            "Successfully installed catboost-1.1.1\n"
          ]
        }
      ]
    },
    {
      "cell_type": "code",
      "source": [
        "from sklearn.pipeline import Pipeline\n",
        "from sklearn.preprocessing import OneHotEncoder\n",
        "from sklearn.preprocessing import RobustScaler\n",
        "from catboost import CatBoostRegressor"
      ],
      "metadata": {
        "id": "oRWfOKTGAF6O"
      },
      "execution_count": null,
      "outputs": []
    },
    {
      "cell_type": "code",
      "execution_count": null,
      "metadata": {
        "id": "lo6A3v-uyvDC"
      },
      "outputs": [],
      "source": [
        "numeric_columns = list(X_train.select_dtypes(exclude = ['object']).columns.values.tolist())\n",
        "categorical_columns = list(X_train.select_dtypes(include = ['object']).columns.values.tolist())\n",
        "numeric_transformer = Pipeline(steps = [('simple_imputer', SimpleImputer(strategy = 'median'))])\n",
        "categorical_transformer = Pipeline(steps = [('one_hot_encoder', OneHotEncoder(sparse = False, handle_unknown = 'ignore'))])\n",
        "\n",
        "preprocessor = ColumnTransformer(transformers = [('numeric', numeric_transformer, numeric_columns),\n",
        "                                                 ('categorical', categorical_transformer, categorical_columns)], remainder = 'passthrough')\n",
        "\n",
        "bundled_pipeline = Pipeline(steps = [('preprocessor', preprocessor),\n",
        "                                     ('scaler', RobustScaler()),\n",
        "                                     ('model', CatBoostRegressor(silent = True, random_state = 42))])"
      ]
    },
    {
      "cell_type": "code",
      "execution_count": null,
      "metadata": {
        "id": "ku6nFno_yvDD"
      },
      "outputs": [],
      "source": [
        "bundled_pipeline.fit(X_train, y_train)"
      ]
    },
    {
      "cell_type": "code",
      "execution_count": null,
      "metadata": {
        "id": "bcF4OPxhyvDE"
      },
      "outputs": [],
      "source": [
        "y_pred = bundled_pipeline.predict(X_test)"
      ]
    },
    {
      "cell_type": "code",
      "execution_count": null,
      "metadata": {
        "id": "NcFy5lRtyvDG"
      },
      "outputs": [],
      "source": [
        "from sklearn.metrics import mean_absolute_error"
      ]
    },
    {
      "cell_type": "code",
      "execution_count": null,
      "metadata": {
        "id": "Z1Cngz2UyvDH"
      },
      "outputs": [],
      "source": [
        "mean_absolute_error(y_test, y_pred)"
      ]
    },
    {
      "cell_type": "markdown",
      "metadata": {
        "id": "qZbgWV39TMGg"
      },
      "source": [
        "**ELI5**"
      ]
    },
    {
      "cell_type": "markdown",
      "metadata": {
        "id": "s1ya5_n6TMGh"
      },
      "source": [
        "Из этого пайплайна непросто извлечь важные функции. Однако есть библиотека python, которая делает это очень простым, под названием ELI5.\n",
        "\n",
        "Давайте используем ELI5 для извлечения важности функций из конвейера.\n",
        "\n",
        "ELI5 необходимо знать все имена функций, чтобы определить важность функций. Применяя однократное кодирование к категориальным переменным в конвейере, мы вводим ряд новых функций. Поэтому сначала нам нужно извлечь эти имена функций и добавить их к известному списку числовых функций. В приведенном ниже коде для этого используется функция named_steps, встроенная в конвейеры scikit-learn."
      ]
    },
    {
      "cell_type": "code",
      "source": [
        "one_hot_columns = list(bundled_pipeline.named_steps['preprocessor'].named_transformers_['categorical'].named_steps['one_hot_encoder'].get_feature_names_out(input_features = categorical_columns))"
      ],
      "metadata": {
        "id": "wqJ_R0SpAK_Q"
      },
      "execution_count": null,
      "outputs": []
    },
    {
      "cell_type": "code",
      "execution_count": null,
      "metadata": {
        "id": "L7Qc43wayvDJ"
      },
      "outputs": [],
      "source": [
        "numeric_features_list = list(numeric_columns)\n",
        "numeric_features_list.extend(one_hot_columns)"
      ]
    },
    {
      "cell_type": "code",
      "source": [
        "!pip install eli5"
      ],
      "metadata": {
        "id": "CRjZsynUfOU9",
        "colab": {
          "base_uri": "https://localhost:8080/",
          "height": 641
        },
        "outputId": "c7c2441b-4eb3-4eca-9ff9-480b2b7e87d4"
      },
      "execution_count": 96,
      "outputs": [
        {
          "output_type": "stream",
          "name": "stdout",
          "text": [
            "Looking in indexes: https://pypi.org/simple, https://us-python.pkg.dev/colab-wheels/public/simple/\n",
            "Collecting eli5\n",
            "  Downloading eli5-0.13.0.tar.gz (216 kB)\n",
            "\u001b[K     |████████████████████████████████| 216 kB 7.7 MB/s \n",
            "\u001b[?25hRequirement already satisfied: attrs>17.1.0 in /usr/local/lib/python3.8/dist-packages (from eli5) (22.1.0)\n",
            "Collecting jinja2>=3.0.0\n",
            "  Downloading Jinja2-3.1.2-py3-none-any.whl (133 kB)\n",
            "\u001b[K     |████████████████████████████████| 133 kB 27.8 MB/s \n",
            "\u001b[?25hRequirement already satisfied: numpy>=1.9.0 in /usr/local/lib/python3.8/dist-packages (from eli5) (1.24.0)\n",
            "Requirement already satisfied: scipy in /usr/local/lib/python3.8/dist-packages (from eli5) (1.9.3)\n",
            "Requirement already satisfied: six in /usr/local/lib/python3.8/dist-packages (from eli5) (1.15.0)\n",
            "Requirement already satisfied: scikit-learn>=0.20 in /usr/local/lib/python3.8/dist-packages (from eli5) (1.0.2)\n",
            "Requirement already satisfied: graphviz in /usr/local/lib/python3.8/dist-packages (from eli5) (0.10.1)\n",
            "Requirement already satisfied: tabulate>=0.7.7 in /usr/local/lib/python3.8/dist-packages (from eli5) (0.8.10)\n",
            "Requirement already satisfied: MarkupSafe>=2.0 in /usr/local/lib/python3.8/dist-packages (from jinja2>=3.0.0->eli5) (2.0.1)\n",
            "Requirement already satisfied: joblib>=0.11 in /usr/local/lib/python3.8/dist-packages (from scikit-learn>=0.20->eli5) (1.2.0)\n",
            "Requirement already satisfied: threadpoolctl>=2.0.0 in /usr/local/lib/python3.8/dist-packages (from scikit-learn>=0.20->eli5) (3.1.0)\n",
            "Building wheels for collected packages: eli5\n",
            "  Building wheel for eli5 (setup.py) ... \u001b[?25l\u001b[?25hdone\n",
            "  Created wheel for eli5: filename=eli5-0.13.0-py2.py3-none-any.whl size=107748 sha256=a03e0326b1aada3b3333c49f5b240939fe05ac12a7bbf9851570cfb0ca26c244\n",
            "  Stored in directory: /root/.cache/pip/wheels/85/ac/25/ffcd87ef8f9b1eec324fdf339359be71f22612459d8c75d89c\n",
            "Successfully built eli5\n",
            "Installing collected packages: jinja2, eli5\n",
            "  Attempting uninstall: jinja2\n",
            "    Found existing installation: Jinja2 2.11.3\n",
            "    Uninstalling Jinja2-2.11.3:\n",
            "      Successfully uninstalled Jinja2-2.11.3\n",
            "\u001b[31mERROR: pip's dependency resolver does not currently take into account all the packages that are installed. This behaviour is the source of the following dependency conflicts.\n",
            "notebook 5.7.16 requires jinja2<=3.0.0, but you have jinja2 3.1.2 which is incompatible.\n",
            "flask 1.1.4 requires Jinja2<3.0,>=2.10.1, but you have jinja2 3.1.2 which is incompatible.\u001b[0m\n",
            "Successfully installed eli5-0.13.0 jinja2-3.1.2\n"
          ]
        },
        {
          "output_type": "display_data",
          "data": {
            "application/vnd.colab-display-data+json": {
              "pip_warning": {
                "packages": [
                  "jinja2"
                ]
              }
            }
          },
          "metadata": {}
        }
      ]
    },
    {
      "cell_type": "code",
      "source": [
        "import eli5"
      ],
      "metadata": {
        "id": "R5dr2Tf-ATje"
      },
      "execution_count": null,
      "outputs": []
    },
    {
      "cell_type": "markdown",
      "metadata": {
        "id": "Rfw3qaVGTMGj"
      },
      "source": [
        "To extract the feature importances we then simply need to run this line of code."
      ]
    },
    {
      "cell_type": "code",
      "execution_count": null,
      "metadata": {
        "id": "kce02PJKyvDM"
      },
      "outputs": [],
      "source": [
        "eli5.explain_weights(bundled_pipeline.named_steps['model'], top = 50, feature_names = numeric_features_list)"
      ]
    },
    {
      "cell_type": "markdown",
      "metadata": {
        "id": "QYf5bDUrTMGk"
      },
      "source": [
        "Здесь мы отмечаем, что «mntwines» и «mntmeatproducts» являются наиболее важными функциями."
      ]
    },
    {
      "cell_type": "markdown",
      "metadata": {
        "id": "PWObAwIOyvDM"
      },
      "source": [
        "**Важные замечание**"
      ]
    },
    {
      "cell_type": "markdown",
      "metadata": {
        "id": "vgK53lQpyvDN"
      },
      "source": [
        "* Чем точнее модель, тем надежнее рассчитанные значения важности.\n",
        "\n",
        "* Вычисленные значения важности описывают, насколько важны функции для модели CatBoostRegressor. Это приблизительное представление о том, насколько важны функции в данных."
      ]
    },
    {
      "cell_type": "markdown",
      "metadata": {
        "id": "0Qj8HJxUTMGl"
      },
      "source": [
        "# **С точки зрения общего объема покупок дела в США значительно лучше, чем в остальном мире?**"
      ]
    },
    {
      "cell_type": "code",
      "execution_count": 83,
      "metadata": {
        "id": "Olo2WVggTMGm"
      },
      "outputs": [],
      "source": [
        "totalpurchases = df[['numdealspurchases', 'numwebpurchases', 'numcatalogpurchases', 'numstorepurchases', 'country']]"
      ]
    },
    {
      "cell_type": "code",
      "execution_count": 84,
      "metadata": {
        "id": "uzZx72IITMGm"
      },
      "outputs": [],
      "source": [
        "# Calculate the total number of purchases made through different channels\n",
        "totalpurchases['totalpurchases'] = totalpurchases['numdealspurchases'] + totalpurchases['numwebpurchases'] + totalpurchases['numcatalogpurchases'] + totalpurchases['numstorepurchases']"
      ]
    },
    {
      "cell_type": "code",
      "execution_count": 85,
      "metadata": {
        "id": "CA-LQ_MjTMGm"
      },
      "outputs": [],
      "source": [
        "average_purchases_per_country = totalpurchases.groupby('country').agg(total_purchases = ('totalpurchases', 'sum'))"
      ]
    },
    {
      "cell_type": "code",
      "execution_count": 86,
      "metadata": {
        "id": "aviGe9ZvTMGn"
      },
      "outputs": [],
      "source": [
        "average_purchases_per_country['total_customers'] = totalpurchases['country'].value_counts()"
      ]
    },
    {
      "cell_type": "code",
      "execution_count": 87,
      "metadata": {
        "id": "DN0kM-v1TMGn"
      },
      "outputs": [],
      "source": [
        "average_purchases_per_country['purchases_per_customer'] = np.floor(average_purchases_per_country['total_purchases'] / average_purchases_per_country['total_customers'])"
      ]
    },
    {
      "cell_type": "code",
      "execution_count": 88,
      "metadata": {
        "id": "yvIidmzxTMGn",
        "colab": {
          "base_uri": "https://localhost:8080/",
          "height": 332
        },
        "outputId": "4373df74-9aff-4fc3-e405-7615eb327578"
      },
      "outputs": [
        {
          "output_type": "execute_result",
          "data": {
            "text/plain": [
              "         total_purchases  total_customers  purchases_per_customer country\n",
              "country                                                                  \n",
              "aus                 2314              160                    14.0     aus\n",
              "ca                  4101              268                    15.0      ca\n",
              "ger                 1788              120                    14.0     ger\n",
              "ind                 2093              147                    14.0     ind\n",
              "me                    59                3                    19.0      me\n",
              "sa                  5102              335                    15.0      sa\n",
              "sp                 16037             1094                    14.0      sp\n",
              "us                  1761              109                    16.0      us"
            ],
            "text/html": [
              "\n",
              "  <div id=\"df-e112412a-1364-4a65-ab68-359ddc6a15bf\">\n",
              "    <div class=\"colab-df-container\">\n",
              "      <div>\n",
              "<style scoped>\n",
              "    .dataframe tbody tr th:only-of-type {\n",
              "        vertical-align: middle;\n",
              "    }\n",
              "\n",
              "    .dataframe tbody tr th {\n",
              "        vertical-align: top;\n",
              "    }\n",
              "\n",
              "    .dataframe thead th {\n",
              "        text-align: right;\n",
              "    }\n",
              "</style>\n",
              "<table border=\"1\" class=\"dataframe\">\n",
              "  <thead>\n",
              "    <tr style=\"text-align: right;\">\n",
              "      <th></th>\n",
              "      <th>total_purchases</th>\n",
              "      <th>total_customers</th>\n",
              "      <th>purchases_per_customer</th>\n",
              "      <th>country</th>\n",
              "    </tr>\n",
              "    <tr>\n",
              "      <th>country</th>\n",
              "      <th></th>\n",
              "      <th></th>\n",
              "      <th></th>\n",
              "      <th></th>\n",
              "    </tr>\n",
              "  </thead>\n",
              "  <tbody>\n",
              "    <tr>\n",
              "      <th>aus</th>\n",
              "      <td>2314</td>\n",
              "      <td>160</td>\n",
              "      <td>14.0</td>\n",
              "      <td>aus</td>\n",
              "    </tr>\n",
              "    <tr>\n",
              "      <th>ca</th>\n",
              "      <td>4101</td>\n",
              "      <td>268</td>\n",
              "      <td>15.0</td>\n",
              "      <td>ca</td>\n",
              "    </tr>\n",
              "    <tr>\n",
              "      <th>ger</th>\n",
              "      <td>1788</td>\n",
              "      <td>120</td>\n",
              "      <td>14.0</td>\n",
              "      <td>ger</td>\n",
              "    </tr>\n",
              "    <tr>\n",
              "      <th>ind</th>\n",
              "      <td>2093</td>\n",
              "      <td>147</td>\n",
              "      <td>14.0</td>\n",
              "      <td>ind</td>\n",
              "    </tr>\n",
              "    <tr>\n",
              "      <th>me</th>\n",
              "      <td>59</td>\n",
              "      <td>3</td>\n",
              "      <td>19.0</td>\n",
              "      <td>me</td>\n",
              "    </tr>\n",
              "    <tr>\n",
              "      <th>sa</th>\n",
              "      <td>5102</td>\n",
              "      <td>335</td>\n",
              "      <td>15.0</td>\n",
              "      <td>sa</td>\n",
              "    </tr>\n",
              "    <tr>\n",
              "      <th>sp</th>\n",
              "      <td>16037</td>\n",
              "      <td>1094</td>\n",
              "      <td>14.0</td>\n",
              "      <td>sp</td>\n",
              "    </tr>\n",
              "    <tr>\n",
              "      <th>us</th>\n",
              "      <td>1761</td>\n",
              "      <td>109</td>\n",
              "      <td>16.0</td>\n",
              "      <td>us</td>\n",
              "    </tr>\n",
              "  </tbody>\n",
              "</table>\n",
              "</div>\n",
              "      <button class=\"colab-df-convert\" onclick=\"convertToInteractive('df-e112412a-1364-4a65-ab68-359ddc6a15bf')\"\n",
              "              title=\"Convert this dataframe to an interactive table.\"\n",
              "              style=\"display:none;\">\n",
              "        \n",
              "  <svg xmlns=\"http://www.w3.org/2000/svg\" height=\"24px\"viewBox=\"0 0 24 24\"\n",
              "       width=\"24px\">\n",
              "    <path d=\"M0 0h24v24H0V0z\" fill=\"none\"/>\n",
              "    <path d=\"M18.56 5.44l.94 2.06.94-2.06 2.06-.94-2.06-.94-.94-2.06-.94 2.06-2.06.94zm-11 1L8.5 8.5l.94-2.06 2.06-.94-2.06-.94L8.5 2.5l-.94 2.06-2.06.94zm10 10l.94 2.06.94-2.06 2.06-.94-2.06-.94-.94-2.06-.94 2.06-2.06.94z\"/><path d=\"M17.41 7.96l-1.37-1.37c-.4-.4-.92-.59-1.43-.59-.52 0-1.04.2-1.43.59L10.3 9.45l-7.72 7.72c-.78.78-.78 2.05 0 2.83L4 21.41c.39.39.9.59 1.41.59.51 0 1.02-.2 1.41-.59l7.78-7.78 2.81-2.81c.8-.78.8-2.07 0-2.86zM5.41 20L4 18.59l7.72-7.72 1.47 1.35L5.41 20z\"/>\n",
              "  </svg>\n",
              "      </button>\n",
              "      \n",
              "  <style>\n",
              "    .colab-df-container {\n",
              "      display:flex;\n",
              "      flex-wrap:wrap;\n",
              "      gap: 12px;\n",
              "    }\n",
              "\n",
              "    .colab-df-convert {\n",
              "      background-color: #E8F0FE;\n",
              "      border: none;\n",
              "      border-radius: 50%;\n",
              "      cursor: pointer;\n",
              "      display: none;\n",
              "      fill: #1967D2;\n",
              "      height: 32px;\n",
              "      padding: 0 0 0 0;\n",
              "      width: 32px;\n",
              "    }\n",
              "\n",
              "    .colab-df-convert:hover {\n",
              "      background-color: #E2EBFA;\n",
              "      box-shadow: 0px 1px 2px rgba(60, 64, 67, 0.3), 0px 1px 3px 1px rgba(60, 64, 67, 0.15);\n",
              "      fill: #174EA6;\n",
              "    }\n",
              "\n",
              "    [theme=dark] .colab-df-convert {\n",
              "      background-color: #3B4455;\n",
              "      fill: #D2E3FC;\n",
              "    }\n",
              "\n",
              "    [theme=dark] .colab-df-convert:hover {\n",
              "      background-color: #434B5C;\n",
              "      box-shadow: 0px 1px 3px 1px rgba(0, 0, 0, 0.15);\n",
              "      filter: drop-shadow(0px 1px 2px rgba(0, 0, 0, 0.3));\n",
              "      fill: #FFFFFF;\n",
              "    }\n",
              "  </style>\n",
              "\n",
              "      <script>\n",
              "        const buttonEl =\n",
              "          document.querySelector('#df-e112412a-1364-4a65-ab68-359ddc6a15bf button.colab-df-convert');\n",
              "        buttonEl.style.display =\n",
              "          google.colab.kernel.accessAllowed ? 'block' : 'none';\n",
              "\n",
              "        async function convertToInteractive(key) {\n",
              "          const element = document.querySelector('#df-e112412a-1364-4a65-ab68-359ddc6a15bf');\n",
              "          const dataTable =\n",
              "            await google.colab.kernel.invokeFunction('convertToInteractive',\n",
              "                                                     [key], {});\n",
              "          if (!dataTable) return;\n",
              "\n",
              "          const docLinkHtml = 'Like what you see? Visit the ' +\n",
              "            '<a target=\"_blank\" href=https://colab.research.google.com/notebooks/data_table.ipynb>data table notebook</a>'\n",
              "            + ' to learn more about interactive tables.';\n",
              "          element.innerHTML = '';\n",
              "          dataTable['output_type'] = 'display_data';\n",
              "          await google.colab.output.renderOutput(dataTable, element);\n",
              "          const docLink = document.createElement('div');\n",
              "          docLink.innerHTML = docLinkHtml;\n",
              "          element.appendChild(docLink);\n",
              "        }\n",
              "      </script>\n",
              "    </div>\n",
              "  </div>\n",
              "  "
            ]
          },
          "metadata": {},
          "execution_count": 88
        }
      ],
      "source": [
        "average_purchases_per_country.assign(country = average_purchases_per_country.index.get_level_values('country'))"
      ]
    },
    {
      "cell_type": "code",
      "execution_count": 89,
      "metadata": {
        "id": "E28wwwPxTMGo"
      },
      "outputs": [],
      "source": [
        "average_purchases_per_country.reset_index(inplace = True)"
      ]
    },
    {
      "cell_type": "code",
      "execution_count": 90,
      "metadata": {
        "id": "OOAbcUuETMGo"
      },
      "outputs": [],
      "source": [
        "average_purchases_per_country = average_purchases_per_country.sort_values(by = 'total_purchases', ascending = False)"
      ]
    },
    {
      "cell_type": "code",
      "execution_count": 91,
      "metadata": {
        "id": "8cqQkvtMTMGo"
      },
      "outputs": [],
      "source": [
        "import plotly.graph_objects as go"
      ]
    },
    {
      "cell_type": "code",
      "execution_count": 92,
      "metadata": {
        "id": "ZmCExLoFTMGp",
        "colab": {
          "base_uri": "https://localhost:8080/",
          "height": 467
        },
        "outputId": "112cabcc-23f1-4ee9-ac5e-5b406ba3ab89"
      },
      "outputs": [
        {
          "output_type": "execute_result",
          "data": {
            "image/png": "[encoded data removed]",
            "text/plain": [
              "<IPython.core.display.Image object>"
            ]
          },
          "metadata": {},
          "execution_count": 92
        }
      ],
      "source": [
        "fig = make_subplots(rows = 1, cols = 2, subplot_titles = ('Total purchases by country', 'Average purchases by country'))\n",
        "\n",
        "fig.add_trace(go.Bar(x = average_purchases_per_country['country'], y = average_purchases_per_country['total_purchases']), row = 1, col = 1)\n",
        "fig.add_trace(go.Bar(x = average_purchases_per_country['country'], y = average_purchases_per_country['purchases_per_customer']), row = 1, col = 2)\n",
        "\n",
        "fig['layout']['xaxis']['title'] = 'Country'\n",
        "fig['layout']['xaxis2']['title'] = 'Country'\n",
        "fig['layout']['yaxis']['title'] = 'Total purchases'\n",
        "fig['layout']['yaxis2']['title'] = 'Average purchases'\n",
        "\n",
        "fig.update_layout(showlegend = False)\n",
        "\n",
        "gitly.show(fig)"
      ]
    },
    {
      "cell_type": "markdown",
      "metadata": {
        "id": "7HRArShTTMGp"
      },
      "source": [
        "С точки зрения общего количества покупок США, похоже, не занимает лидирующее место. На самом деле он самый низкий (исключая ME из-за всего 3 записей). Однако, если мы посмотрим на покупки, сделанные на человека в стране,\n",
        " то США лидируют в чарте."
      ]
    },
    {
      "cell_type": "markdown",
      "metadata": {
        "id": "8qqhWR_yTMHe"
      },
      "source": [
        "# **Есть ли существенная связь между географическим регионом и успехом кампании?**"
      ]
    },
    {
      "cell_type": "markdown",
      "metadata": {
        "id": "vfo15G45TMHe"
      },
      "source": [
        "Мы будем использовать критерий хи-квадрат, чтобы определить связь между двумя категориальными переменными, страной и acceptcmp. Начнем с определения нулевой и альтернативной гипотез."
      ]
    },
    {
      "cell_type": "markdown",
      "metadata": {
        "id": "XGbVGTzzTMHf"
      },
      "source": [
        "Нулевая гипотеза H0: Две переменные, country и acceptcmp, не зависят друг от друга.\n",
        "\n",
        "Альтернативная гипотеза H1: две переменные связаны друг с другом."
      ]
    },
    {
      "cell_type": "code",
      "source": [
        "from scipy.stats import chi2_contingency"
      ],
      "metadata": {
        "id": "dtFp7OBn_8L_"
      },
      "execution_count": null,
      "outputs": []
    },
    {
      "cell_type": "code",
      "execution_count": 70,
      "metadata": {
        "id": "KYdVBtAsTMHf"
      },
      "outputs": [],
      "source": [
        "acceptedcmp1 = pd.crosstab(df['country'], df['acceptedcmp1'])"
      ]
    },
    {
      "cell_type": "code",
      "source": [
        "c, p, dof, expected = chi2_contingency(acceptedcmp1)"
      ],
      "metadata": {
        "id": "Mmv4EQ41_yc_"
      },
      "execution_count": null,
      "outputs": []
    },
    {
      "cell_type": "code",
      "execution_count": null,
      "metadata": {
        "id": "p675hSgRTMHg"
      },
      "outputs": [],
      "source": [
        "p"
      ]
    },
    {
      "cell_type": "code",
      "execution_count": null,
      "metadata": {
        "id": "JIiytX0ITMHg"
      },
      "outputs": [],
      "source": [
        "acceptedcmp2 = pd.crosstab(df['country'], df['acceptedcmp2'])"
      ]
    },
    {
      "cell_type": "code",
      "execution_count": null,
      "metadata": {
        "id": "jJ6yPQ7eTMHg"
      },
      "outputs": [],
      "source": [
        "c, p, dof, expected = chi2_contingency(acceptedcmp2)"
      ]
    },
    {
      "cell_type": "code",
      "execution_count": null,
      "metadata": {
        "id": "1zz9cOqiTMHg"
      },
      "outputs": [],
      "source": [
        "p"
      ]
    },
    {
      "cell_type": "code",
      "execution_count": null,
      "metadata": {
        "id": "EFcPt54TTMHh"
      },
      "outputs": [],
      "source": [
        "acceptedcmp3 = pd.crosstab(df['country'], df['acceptedcmp3'])"
      ]
    },
    {
      "cell_type": "code",
      "execution_count": null,
      "metadata": {
        "id": "LUShA3l7TMHh"
      },
      "outputs": [],
      "source": [
        "c, p, dof, expected = chi2_contingency(acceptedcmp3)"
      ]
    },
    {
      "cell_type": "code",
      "execution_count": null,
      "metadata": {
        "id": "uWx7SMOtTMHh"
      },
      "outputs": [],
      "source": [
        "p"
      ]
    },
    {
      "cell_type": "code",
      "execution_count": null,
      "metadata": {
        "id": "358_ASLRTMHh"
      },
      "outputs": [],
      "source": [
        "acceptedcmp4 = pd.crosstab(df['country'], df['acceptedcmp4'])"
      ]
    },
    {
      "cell_type": "code",
      "execution_count": null,
      "metadata": {
        "id": "_YBoSv3GTMHi"
      },
      "outputs": [],
      "source": [
        "c, p, dof, expected = chi2_contingency(acceptedcmp4)"
      ]
    },
    {
      "cell_type": "code",
      "execution_count": null,
      "metadata": {
        "id": "oH5UfJZBTMHi"
      },
      "outputs": [],
      "source": [
        "p"
      ]
    },
    {
      "cell_type": "code",
      "execution_count": null,
      "metadata": {
        "id": "rE_ZbOqdTMHi"
      },
      "outputs": [],
      "source": [
        "acceptedcmp5 = pd.crosstab(df['country'], df['acceptedcmp5'])"
      ]
    },
    {
      "cell_type": "code",
      "execution_count": null,
      "metadata": {
        "id": "38-GfTyzTMHj"
      },
      "outputs": [],
      "source": [
        "c, p, dof, expected = chi2_contingency(acceptedcmp5)"
      ]
    },
    {
      "cell_type": "code",
      "execution_count": null,
      "metadata": {
        "id": "a5nLpbKVTMHj"
      },
      "outputs": [],
      "source": [
        "p"
      ]
    },
    {
      "cell_type": "code",
      "execution_count": null,
      "metadata": {
        "id": "18zj434TTMHj"
      },
      "outputs": [],
      "source": [
        "acceptedcmp6 = pd.crosstab(df['country'], df['acceptedcmp6'])"
      ]
    },
    {
      "cell_type": "code",
      "execution_count": null,
      "metadata": {
        "id": "NGM-AQOoTMHj"
      },
      "outputs": [],
      "source": [
        "c, p, dof, expected = chi2_contingency(acceptedcmp6)"
      ]
    },
    {
      "cell_type": "code",
      "execution_count": null,
      "metadata": {
        "id": "3oHsD9OUTMHk"
      },
      "outputs": [],
      "source": [
        "p"
      ]
    },
    {
      "cell_type": "markdown",
      "metadata": {
        "id": "AZw7EuYGTMHk"
      },
      "source": [
        "Результаты показывают, что между географическими регионами и успехом кампании нет существенной связи, при этом p-значение для всех стран во всех маркетинговых кампаниях превышает 0,05. Это указывает на недостаточность доказательств, чтобы отвергнуть нулевую гипотезу о том, что географические регионы не имеют отношения к успеху маркетинговой кампании.\n",
        "\n",
        "Мы можем дополнительно проверить это, построив график уровня принятия кампании в разных странах."
      ]
    },
    {
      "cell_type": "code",
      "execution_count": 65,
      "metadata": {
        "id": "KFx0YKstTMHk"
      },
      "outputs": [],
      "source": [
        "acceptedcmp_by_country = df.groupby('country').agg(acceptedcmp1 = ('acceptedcmp1', 'mean'), \n",
        "                                                   acceptedcmp2 = ('acceptedcmp2', 'mean'),\n",
        "                                                   acceptedcmp3 = ('acceptedcmp3', 'mean'),\n",
        "                                                   acceptedcmp4 = ('acceptedcmp4', 'mean'),\n",
        "                                                   acceptedcmp5 = ('acceptedcmp5', 'mean'),\n",
        "                                                   acceptedcmp6 = ('acceptedcmp6', 'mean')).reset_index()"
      ]
    },
    {
      "cell_type": "code",
      "execution_count": 66,
      "metadata": {
        "id": "FGpf9eSgTMHl",
        "colab": {
          "base_uri": "https://localhost:8080/",
          "height": 300
        },
        "outputId": "17e79299-66cd-4f4e-cca8-1953bae652b2"
      },
      "outputs": [
        {
          "output_type": "execute_result",
          "data": {
            "text/plain": [
              "  country  acceptedcmp1  acceptedcmp2  acceptedcmp3  acceptedcmp4  \\\n",
              "0     aus      0.043750      0.000000      0.056250      0.037500   \n",
              "1      ca      0.067164      0.022388      0.067164      0.089552   \n",
              "2     ger      0.058333      0.016667      0.083333      0.091667   \n",
              "3     ind      0.047619      0.013605      0.088435      0.074830   \n",
              "4      me      0.000000      0.000000      0.333333      0.000000   \n",
              "5      sa      0.059701      0.011940      0.062687      0.059701   \n",
              "6      sp      0.071298      0.014625      0.075868      0.081353   \n",
              "7      us      0.064220      0.000000      0.073394      0.055046   \n",
              "\n",
              "   acceptedcmp5  acceptedcmp6  \n",
              "0      0.081250      0.143750  \n",
              "1      0.078358      0.141791  \n",
              "2      0.066667      0.141667  \n",
              "3      0.040816      0.088435  \n",
              "4      0.000000      0.666667  \n",
              "5      0.062687      0.155224  \n",
              "6      0.080439      0.160878  \n",
              "7      0.045872      0.119266  "
            ],
            "text/html": [
              "\n",
              "  <div id=\"df-965fd9ff-ddfa-49e8-8e0e-558f92dfd46c\">\n",
              "    <div class=\"colab-df-container\">\n",
              "      <div>\n",
              "<style scoped>\n",
              "    .dataframe tbody tr th:only-of-type {\n",
              "        vertical-align: middle;\n",
              "    }\n",
              "\n",
              "    .dataframe tbody tr th {\n",
              "        vertical-align: top;\n",
              "    }\n",
              "\n",
              "    .dataframe thead th {\n",
              "        text-align: right;\n",
              "    }\n",
              "</style>\n",
              "<table border=\"1\" class=\"dataframe\">\n",
              "  <thead>\n",
              "    <tr style=\"text-align: right;\">\n",
              "      <th></th>\n",
              "      <th>country</th>\n",
              "      <th>acceptedcmp1</th>\n",
              "      <th>acceptedcmp2</th>\n",
              "      <th>acceptedcmp3</th>\n",
              "      <th>acceptedcmp4</th>\n",
              "      <th>acceptedcmp5</th>\n",
              "      <th>acceptedcmp6</th>\n",
              "    </tr>\n",
              "  </thead>\n",
              "  <tbody>\n",
              "    <tr>\n",
              "      <th>0</th>\n",
              "      <td>aus</td>\n",
              "      <td>0.043750</td>\n",
              "      <td>0.000000</td>\n",
              "      <td>0.056250</td>\n",
              "      <td>0.037500</td>\n",
              "      <td>0.081250</td>\n",
              "      <td>0.143750</td>\n",
              "    </tr>\n",
              "    <tr>\n",
              "      <th>1</th>\n",
              "      <td>ca</td>\n",
              "      <td>0.067164</td>\n",
              "      <td>0.022388</td>\n",
              "      <td>0.067164</td>\n",
              "      <td>0.089552</td>\n",
              "      <td>0.078358</td>\n",
              "      <td>0.141791</td>\n",
              "    </tr>\n",
              "    <tr>\n",
              "      <th>2</th>\n",
              "      <td>ger</td>\n",
              "      <td>0.058333</td>\n",
              "      <td>0.016667</td>\n",
              "      <td>0.083333</td>\n",
              "      <td>0.091667</td>\n",
              "      <td>0.066667</td>\n",
              "      <td>0.141667</td>\n",
              "    </tr>\n",
              "    <tr>\n",
              "      <th>3</th>\n",
              "      <td>ind</td>\n",
              "      <td>0.047619</td>\n",
              "      <td>0.013605</td>\n",
              "      <td>0.088435</td>\n",
              "      <td>0.074830</td>\n",
              "      <td>0.040816</td>\n",
              "      <td>0.088435</td>\n",
              "    </tr>\n",
              "    <tr>\n",
              "      <th>4</th>\n",
              "      <td>me</td>\n",
              "      <td>0.000000</td>\n",
              "      <td>0.000000</td>\n",
              "      <td>0.333333</td>\n",
              "      <td>0.000000</td>\n",
              "      <td>0.000000</td>\n",
              "      <td>0.666667</td>\n",
              "    </tr>\n",
              "    <tr>\n",
              "      <th>5</th>\n",
              "      <td>sa</td>\n",
              "      <td>0.059701</td>\n",
              "      <td>0.011940</td>\n",
              "      <td>0.062687</td>\n",
              "      <td>0.059701</td>\n",
              "      <td>0.062687</td>\n",
              "      <td>0.155224</td>\n",
              "    </tr>\n",
              "    <tr>\n",
              "      <th>6</th>\n",
              "      <td>sp</td>\n",
              "      <td>0.071298</td>\n",
              "      <td>0.014625</td>\n",
              "      <td>0.075868</td>\n",
              "      <td>0.081353</td>\n",
              "      <td>0.080439</td>\n",
              "      <td>0.160878</td>\n",
              "    </tr>\n",
              "    <tr>\n",
              "      <th>7</th>\n",
              "      <td>us</td>\n",
              "      <td>0.064220</td>\n",
              "      <td>0.000000</td>\n",
              "      <td>0.073394</td>\n",
              "      <td>0.055046</td>\n",
              "      <td>0.045872</td>\n",
              "      <td>0.119266</td>\n",
              "    </tr>\n",
              "  </tbody>\n",
              "</table>\n",
              "</div>\n",
              "      <button class=\"colab-df-convert\" onclick=\"convertToInteractive('df-965fd9ff-ddfa-49e8-8e0e-558f92dfd46c')\"\n",
              "              title=\"Convert this dataframe to an interactive table.\"\n",
              "              style=\"display:none;\">\n",
              "        \n",
              "  <svg xmlns=\"http://www.w3.org/2000/svg\" height=\"24px\"viewBox=\"0 0 24 24\"\n",
              "       width=\"24px\">\n",
              "    <path d=\"M0 0h24v24H0V0z\" fill=\"none\"/>\n",
              "    <path d=\"M18.56 5.44l.94 2.06.94-2.06 2.06-.94-2.06-.94-.94-2.06-.94 2.06-2.06.94zm-11 1L8.5 8.5l.94-2.06 2.06-.94-2.06-.94L8.5 2.5l-.94 2.06-2.06.94zm10 10l.94 2.06.94-2.06 2.06-.94-2.06-.94-.94-2.06-.94 2.06-2.06.94z\"/><path d=\"M17.41 7.96l-1.37-1.37c-.4-.4-.92-.59-1.43-.59-.52 0-1.04.2-1.43.59L10.3 9.45l-7.72 7.72c-.78.78-.78 2.05 0 2.83L4 21.41c.39.39.9.59 1.41.59.51 0 1.02-.2 1.41-.59l7.78-7.78 2.81-2.81c.8-.78.8-2.07 0-2.86zM5.41 20L4 18.59l7.72-7.72 1.47 1.35L5.41 20z\"/>\n",
              "  </svg>\n",
              "      </button>\n",
              "      \n",
              "  <style>\n",
              "    .colab-df-container {\n",
              "      display:flex;\n",
              "      flex-wrap:wrap;\n",
              "      gap: 12px;\n",
              "    }\n",
              "\n",
              "    .colab-df-convert {\n",
              "      background-color: #E8F0FE;\n",
              "      border: none;\n",
              "      border-radius: 50%;\n",
              "      cursor: pointer;\n",
              "      display: none;\n",
              "      fill: #1967D2;\n",
              "      height: 32px;\n",
              "      padding: 0 0 0 0;\n",
              "      width: 32px;\n",
              "    }\n",
              "\n",
              "    .colab-df-convert:hover {\n",
              "      background-color: #E2EBFA;\n",
              "      box-shadow: 0px 1px 2px rgba(60, 64, 67, 0.3), 0px 1px 3px 1px rgba(60, 64, 67, 0.15);\n",
              "      fill: #174EA6;\n",
              "    }\n",
              "\n",
              "    [theme=dark] .colab-df-convert {\n",
              "      background-color: #3B4455;\n",
              "      fill: #D2E3FC;\n",
              "    }\n",
              "\n",
              "    [theme=dark] .colab-df-convert:hover {\n",
              "      background-color: #434B5C;\n",
              "      box-shadow: 0px 1px 3px 1px rgba(0, 0, 0, 0.15);\n",
              "      filter: drop-shadow(0px 1px 2px rgba(0, 0, 0, 0.3));\n",
              "      fill: #FFFFFF;\n",
              "    }\n",
              "  </style>\n",
              "\n",
              "      <script>\n",
              "        const buttonEl =\n",
              "          document.querySelector('#df-965fd9ff-ddfa-49e8-8e0e-558f92dfd46c button.colab-df-convert');\n",
              "        buttonEl.style.display =\n",
              "          google.colab.kernel.accessAllowed ? 'block' : 'none';\n",
              "\n",
              "        async function convertToInteractive(key) {\n",
              "          const element = document.querySelector('#df-965fd9ff-ddfa-49e8-8e0e-558f92dfd46c');\n",
              "          const dataTable =\n",
              "            await google.colab.kernel.invokeFunction('convertToInteractive',\n",
              "                                                     [key], {});\n",
              "          if (!dataTable) return;\n",
              "\n",
              "          const docLinkHtml = 'Like what you see? Visit the ' +\n",
              "            '<a target=\"_blank\" href=https://colab.research.google.com/notebooks/data_table.ipynb>data table notebook</a>'\n",
              "            + ' to learn more about interactive tables.';\n",
              "          element.innerHTML = '';\n",
              "          dataTable['output_type'] = 'display_data';\n",
              "          await google.colab.output.renderOutput(dataTable, element);\n",
              "          const docLink = document.createElement('div');\n",
              "          docLink.innerHTML = docLinkHtml;\n",
              "          element.appendChild(docLink);\n",
              "        }\n",
              "      </script>\n",
              "    </div>\n",
              "  </div>\n",
              "  "
            ]
          },
          "metadata": {},
          "execution_count": 66
        }
      ],
      "source": [
        "acceptedcmp_by_country"
      ]
    },
    {
      "cell_type": "code",
      "execution_count": 67,
      "metadata": {
        "id": "hro62XUmTMHl"
      },
      "outputs": [],
      "source": [
        "acceptedcmp_by_country = pd.melt(acceptedcmp_by_country.reset_index(), id_vars = 'country', value_vars = ['acceptedcmp1', 'acceptedcmp2', 'acceptedcmp3', 'acceptedcmp4', 'acceptedcmp5', 'acceptedcmp6'])"
      ]
    },
    {
      "cell_type": "code",
      "execution_count": 68,
      "metadata": {
        "id": "WKtF6MayTMHl",
        "colab": {
          "base_uri": "https://localhost:8080/",
          "height": 467
        },
        "outputId": "06c6f1ba-728f-4887-f15b-c39d63b999ab"
      },
      "outputs": [
        {
          "output_type": "execute_result",
          "data": {
            "image/png": "[encoded data removed]",
            "text/plain": [
              "<IPython.core.display.Image object>"
            ]
          },
          "metadata": {},
          "execution_count": 68
        }
      ],
      "source": [
        "fig = px.histogram(acceptedcmp_by_country, x = 'country', y = 'value', color = 'variable', barmode = 'group')\n",
        "\n",
        "fig.update_layout(title_text = 'Acceptance rate of marketing campaigns across countries', title_x = 0.5)\n",
        "\n",
        "fig.update_layout(xaxis_title = 'Country')\n",
        "fig.update_layout(yaxis_title = 'Accepted (%)')\n",
        "\n",
        "fig.update_layout(legend = {'title_text': ''})\n",
        "\n",
        "gitly.show(fig)"
      ]
    },
    {
      "cell_type": "markdown",
      "metadata": {
        "id": "OY1n0BuYTMHm"
      },
      "source": [
        "Из приведенной выше диаграммы видно, что уровень одобрения (%) каждой кампании в разных странах, как правило, довольно низок и довольно одинаков. Таким образом, это имеет смысл и еще раз подтверждает наш вывод о том, что «страна» не является важной характеристикой для прогнозирования успеха кампании.\n",
        "\n",
        "Обратите внимание, что набор данных содержит только 3 точки данных о клиентах для Мексики, поэтому уровень одобрения кажется высоким (т. Е. Если 1 клиент принимает кампанию, показатель успеха уже будет на уровне 33%)."
      ]
    },
    {
      "cell_type": "markdown",
      "metadata": {
        "id": "Ap87R-XZTMHo"
      },
      "source": [
        "# **1. Какая маркетинговая кампания наиболее успешна?**"
      ]
    },
    {
      "cell_type": "code",
      "execution_count": 49,
      "metadata": {
        "id": "TLvhh26ZyvDO"
      },
      "outputs": [],
      "source": [
        "accepted_cmp = pd.DataFrame(df[['acceptedcmp1', \n",
        "                                'acceptedcmp2', \n",
        "                                'acceptedcmp3', \n",
        "                                'acceptedcmp4', \n",
        "                                'acceptedcmp5', \n",
        "                                'acceptedcmp6']].mean() * 100, columns = ['accepted_(%)']).sort_values(by = 'accepted_(%)', ascending = False).reset_index()"
      ]
    },
    {
      "cell_type": "code",
      "execution_count": 50,
      "metadata": {
        "id": "sPFThXYJSrPV"
      },
      "outputs": [],
      "source": [
        "accepted_cmp.reset_index(inplace = True)"
      ]
    },
    {
      "cell_type": "code",
      "execution_count": 51,
      "metadata": {
        "id": "huZx6JKMTq1O"
      },
      "outputs": [],
      "source": [
        "accepted_cmp = accepted_cmp.rename(columns = {'index': 'marketing_campaign', 'level_0': 'index'})"
      ]
    },
    {
      "cell_type": "code",
      "execution_count": 52,
      "metadata": {
        "id": "4vVHE_H9TROt"
      },
      "outputs": [],
      "source": [
        "accepted_cmp.set_index('index', inplace = True)"
      ]
    },
    {
      "cell_type": "code",
      "execution_count": 55,
      "metadata": {
        "id": "5OlZaQYZTMHs",
        "colab": {
          "base_uri": "https://localhost:8080/",
          "height": 467
        },
        "outputId": "631d946c-b6c0-4dbb-a366-b111a6fe52b5"
      },
      "outputs": [
        {
          "output_type": "execute_result",
          "data": {
            "image/png": "[encoded data removed]",
            "text/plain": [
              "<IPython.core.display.Image object>"
            ]
          },
          "metadata": {},
          "execution_count": 55
        }
      ],
      "source": [
        "fig = px.bar(accepted_cmp, x = 'marketing_campaign', y = 'accepted_(%)')\n",
        "\n",
        "fig.update_layout(title_text = 'Acceptance rates of each marketing campaign', title_x = 0.5)\n",
        "\n",
        "fig.update_layout(xaxis_title = 'Marketing campaign')\n",
        "fig.update_layout(yaxis_title = 'Accepted (%)')\n",
        "\n",
        "gitly.show(fig)"
      ]
    },
    {
      "cell_type": "markdown",
      "metadata": {
        "id": "ZU_PgxthTMHt"
      },
      "source": [
        "Основываясь на приведенной выше диаграмме, мы можем сделать вывод, что самая последняя кампания является самой успешной."
      ]
    },
    {
      "cell_type": "markdown",
      "metadata": {
        "id": "pHUmMYgDTMHu"
      },
      "source": [
        "# **2. Как выглядит средний клиент этой компании?**"
      ]
    },
    {
      "cell_type": "markdown",
      "metadata": {
        "id": "YWgDYzy3TMHv"
      },
      "source": [
        "**2.1 Categorical features**"
      ]
    },
    {
      "cell_type": "markdown",
      "metadata": {
        "id": "dZeMMP9eTMHw"
      },
      "source": [
        "**2.1.1 Education**"
      ]
    },
    {
      "cell_type": "code",
      "execution_count": 56,
      "metadata": {
        "id": "SaPBJbFRTMHw"
      },
      "outputs": [],
      "source": [
        "education = df.groupby('education').agg(count = ('education', 'count'))"
      ]
    },
    {
      "cell_type": "code",
      "execution_count": 57,
      "metadata": {
        "id": "G7_oeRJGTMHw",
        "colab": {
          "base_uri": "https://localhost:8080/",
          "height": 206
        },
        "outputId": "3074dc4b-7569-4a6a-c6fa-797b96163060"
      },
      "outputs": [
        {
          "output_type": "execute_result",
          "data": {
            "text/plain": [
              "               count      education\n",
              "education                          \n",
              "basic             54          basic\n",
              "master           571         master\n",
              "phd              485            phd\n",
              "undergraduate   1126  undergraduate"
            ],
            "text/html": [
              "\n",
              "  <div id=\"df-273907e7-5794-4b89-9b57-578f3814f644\">\n",
              "    <div class=\"colab-df-container\">\n",
              "      <div>\n",
              "<style scoped>\n",
              "    .dataframe tbody tr th:only-of-type {\n",
              "        vertical-align: middle;\n",
              "    }\n",
              "\n",
              "    .dataframe tbody tr th {\n",
              "        vertical-align: top;\n",
              "    }\n",
              "\n",
              "    .dataframe thead th {\n",
              "        text-align: right;\n",
              "    }\n",
              "</style>\n",
              "<table border=\"1\" class=\"dataframe\">\n",
              "  <thead>\n",
              "    <tr style=\"text-align: right;\">\n",
              "      <th></th>\n",
              "      <th>count</th>\n",
              "      <th>education</th>\n",
              "    </tr>\n",
              "    <tr>\n",
              "      <th>education</th>\n",
              "      <th></th>\n",
              "      <th></th>\n",
              "    </tr>\n",
              "  </thead>\n",
              "  <tbody>\n",
              "    <tr>\n",
              "      <th>basic</th>\n",
              "      <td>54</td>\n",
              "      <td>basic</td>\n",
              "    </tr>\n",
              "    <tr>\n",
              "      <th>master</th>\n",
              "      <td>571</td>\n",
              "      <td>master</td>\n",
              "    </tr>\n",
              "    <tr>\n",
              "      <th>phd</th>\n",
              "      <td>485</td>\n",
              "      <td>phd</td>\n",
              "    </tr>\n",
              "    <tr>\n",
              "      <th>undergraduate</th>\n",
              "      <td>1126</td>\n",
              "      <td>undergraduate</td>\n",
              "    </tr>\n",
              "  </tbody>\n",
              "</table>\n",
              "</div>\n",
              "      <button class=\"colab-df-convert\" onclick=\"convertToInteractive('df-273907e7-5794-4b89-9b57-578f3814f644')\"\n",
              "              title=\"Convert this dataframe to an interactive table.\"\n",
              "              style=\"display:none;\">\n",
              "        \n",
              "  <svg xmlns=\"http://www.w3.org/2000/svg\" height=\"24px\"viewBox=\"0 0 24 24\"\n",
              "       width=\"24px\">\n",
              "    <path d=\"M0 0h24v24H0V0z\" fill=\"none\"/>\n",
              "    <path d=\"M18.56 5.44l.94 2.06.94-2.06 2.06-.94-2.06-.94-.94-2.06-.94 2.06-2.06.94zm-11 1L8.5 8.5l.94-2.06 2.06-.94-2.06-.94L8.5 2.5l-.94 2.06-2.06.94zm10 10l.94 2.06.94-2.06 2.06-.94-2.06-.94-.94-2.06-.94 2.06-2.06.94z\"/><path d=\"M17.41 7.96l-1.37-1.37c-.4-.4-.92-.59-1.43-.59-.52 0-1.04.2-1.43.59L10.3 9.45l-7.72 7.72c-.78.78-.78 2.05 0 2.83L4 21.41c.39.39.9.59 1.41.59.51 0 1.02-.2 1.41-.59l7.78-7.78 2.81-2.81c.8-.78.8-2.07 0-2.86zM5.41 20L4 18.59l7.72-7.72 1.47 1.35L5.41 20z\"/>\n",
              "  </svg>\n",
              "      </button>\n",
              "      \n",
              "  <style>\n",
              "    .colab-df-container {\n",
              "      display:flex;\n",
              "      flex-wrap:wrap;\n",
              "      gap: 12px;\n",
              "    }\n",
              "\n",
              "    .colab-df-convert {\n",
              "      background-color: #E8F0FE;\n",
              "      border: none;\n",
              "      border-radius: 50%;\n",
              "      cursor: pointer;\n",
              "      display: none;\n",
              "      fill: #1967D2;\n",
              "      height: 32px;\n",
              "      padding: 0 0 0 0;\n",
              "      width: 32px;\n",
              "    }\n",
              "\n",
              "    .colab-df-convert:hover {\n",
              "      background-color: #E2EBFA;\n",
              "      box-shadow: 0px 1px 2px rgba(60, 64, 67, 0.3), 0px 1px 3px 1px rgba(60, 64, 67, 0.15);\n",
              "      fill: #174EA6;\n",
              "    }\n",
              "\n",
              "    [theme=dark] .colab-df-convert {\n",
              "      background-color: #3B4455;\n",
              "      fill: #D2E3FC;\n",
              "    }\n",
              "\n",
              "    [theme=dark] .colab-df-convert:hover {\n",
              "      background-color: #434B5C;\n",
              "      box-shadow: 0px 1px 3px 1px rgba(0, 0, 0, 0.15);\n",
              "      filter: drop-shadow(0px 1px 2px rgba(0, 0, 0, 0.3));\n",
              "      fill: #FFFFFF;\n",
              "    }\n",
              "  </style>\n",
              "\n",
              "      <script>\n",
              "        const buttonEl =\n",
              "          document.querySelector('#df-273907e7-5794-4b89-9b57-578f3814f644 button.colab-df-convert');\n",
              "        buttonEl.style.display =\n",
              "          google.colab.kernel.accessAllowed ? 'block' : 'none';\n",
              "\n",
              "        async function convertToInteractive(key) {\n",
              "          const element = document.querySelector('#df-273907e7-5794-4b89-9b57-578f3814f644');\n",
              "          const dataTable =\n",
              "            await google.colab.kernel.invokeFunction('convertToInteractive',\n",
              "                                                     [key], {});\n",
              "          if (!dataTable) return;\n",
              "\n",
              "          const docLinkHtml = 'Like what you see? Visit the ' +\n",
              "            '<a target=\"_blank\" href=https://colab.research.google.com/notebooks/data_table.ipynb>data table notebook</a>'\n",
              "            + ' to learn more about interactive tables.';\n",
              "          element.innerHTML = '';\n",
              "          dataTable['output_type'] = 'display_data';\n",
              "          await google.colab.output.renderOutput(dataTable, element);\n",
              "          const docLink = document.createElement('div');\n",
              "          docLink.innerHTML = docLinkHtml;\n",
              "          element.appendChild(docLink);\n",
              "        }\n",
              "      </script>\n",
              "    </div>\n",
              "  </div>\n",
              "  "
            ]
          },
          "metadata": {},
          "execution_count": 57
        }
      ],
      "source": [
        "education.assign(education = education.index.get_level_values('education'))"
      ]
    },
    {
      "cell_type": "code",
      "execution_count": 58,
      "metadata": {
        "id": "NMovF9ooTMHx"
      },
      "outputs": [],
      "source": [
        "education.reset_index(inplace = True)"
      ]
    },
    {
      "cell_type": "code",
      "execution_count": 59,
      "metadata": {
        "id": "5EpMpRtgTMHx",
        "colab": {
          "base_uri": "https://localhost:8080/",
          "height": 467
        },
        "outputId": "6e70a8f5-c58e-43fd-fca8-3803d1b5bc54"
      },
      "outputs": [
        {
          "output_type": "execute_result",
          "data": {
            "image/png": "[encoded data removed]",
            "text/plain": [
              "<IPython.core.display.Image object>"
            ]
          },
          "metadata": {},
          "execution_count": 59
        }
      ],
      "source": [
        "fig = px.pie(education, values = 'count', names = 'education')\n",
        "\n",
        "gitly.show(fig)"
      ]
    },
    {
      "cell_type": "markdown",
      "metadata": {
        "id": "WdyT_YSSTMHy"
      },
      "source": [
        "В целом, большинство клиентов имеют высшее образование (50,4%)."
      ]
    },
    {
      "cell_type": "markdown",
      "metadata": {
        "id": "sGTShpT9TMHy"
      },
      "source": [
        "**2.1.2 Семейный стату**"
      ]
    },
    {
      "cell_type": "code",
      "execution_count": 60,
      "metadata": {
        "id": "dI26gnruTMHy"
      },
      "outputs": [],
      "source": [
        "marital_status = df.groupby('marital_status').agg(count = ('marital_status', 'count'))"
      ]
    },
    {
      "cell_type": "code",
      "execution_count": 61,
      "metadata": {
        "id": "U4EbFPpRTMH0",
        "colab": {
          "base_uri": "https://localhost:8080/",
          "height": 237
        },
        "outputId": "2b2724e0-0606-4452-82b8-f1709cf6f74b"
      },
      "outputs": [
        {
          "output_type": "execute_result",
          "data": {
            "text/plain": [
              "                count marital_status\n",
              "marital_status                      \n",
              "divorced          231       divorced\n",
              "married           864        married\n",
              "single            486         single\n",
              "together          578       together\n",
              "widow              77          widow"
            ],
            "text/html": [
              "\n",
              "  <div id=\"df-36926fa0-2b86-44e0-b33b-ece808e43ad8\">\n",
              "    <div class=\"colab-df-container\">\n",
              "      <div>\n",
              "<style scoped>\n",
              "    .dataframe tbody tr th:only-of-type {\n",
              "        vertical-align: middle;\n",
              "    }\n",
              "\n",
              "    .dataframe tbody tr th {\n",
              "        vertical-align: top;\n",
              "    }\n",
              "\n",
              "    .dataframe thead th {\n",
              "        text-align: right;\n",
              "    }\n",
              "</style>\n",
              "<table border=\"1\" class=\"dataframe\">\n",
              "  <thead>\n",
              "    <tr style=\"text-align: right;\">\n",
              "      <th></th>\n",
              "      <th>count</th>\n",
              "      <th>marital_status</th>\n",
              "    </tr>\n",
              "    <tr>\n",
              "      <th>marital_status</th>\n",
              "      <th></th>\n",
              "      <th></th>\n",
              "    </tr>\n",
              "  </thead>\n",
              "  <tbody>\n",
              "    <tr>\n",
              "      <th>divorced</th>\n",
              "      <td>231</td>\n",
              "      <td>divorced</td>\n",
              "    </tr>\n",
              "    <tr>\n",
              "      <th>married</th>\n",
              "      <td>864</td>\n",
              "      <td>married</td>\n",
              "    </tr>\n",
              "    <tr>\n",
              "      <th>single</th>\n",
              "      <td>486</td>\n",
              "      <td>single</td>\n",
              "    </tr>\n",
              "    <tr>\n",
              "      <th>together</th>\n",
              "      <td>578</td>\n",
              "      <td>together</td>\n",
              "    </tr>\n",
              "    <tr>\n",
              "      <th>widow</th>\n",
              "      <td>77</td>\n",
              "      <td>widow</td>\n",
              "    </tr>\n",
              "  </tbody>\n",
              "</table>\n",
              "</div>\n",
              "      <button class=\"colab-df-convert\" onclick=\"convertToInteractive('df-36926fa0-2b86-44e0-b33b-ece808e43ad8')\"\n",
              "              title=\"Convert this dataframe to an interactive table.\"\n",
              "              style=\"display:none;\">\n",
              "        \n",
              "  <svg xmlns=\"http://www.w3.org/2000/svg\" height=\"24px\"viewBox=\"0 0 24 24\"\n",
              "       width=\"24px\">\n",
              "    <path d=\"M0 0h24v24H0V0z\" fill=\"none\"/>\n",
              "    <path d=\"M18.56 5.44l.94 2.06.94-2.06 2.06-.94-2.06-.94-.94-2.06-.94 2.06-2.06.94zm-11 1L8.5 8.5l.94-2.06 2.06-.94-2.06-.94L8.5 2.5l-.94 2.06-2.06.94zm10 10l.94 2.06.94-2.06 2.06-.94-2.06-.94-.94-2.06-.94 2.06-2.06.94z\"/><path d=\"M17.41 7.96l-1.37-1.37c-.4-.4-.92-.59-1.43-.59-.52 0-1.04.2-1.43.59L10.3 9.45l-7.72 7.72c-.78.78-.78 2.05 0 2.83L4 21.41c.39.39.9.59 1.41.59.51 0 1.02-.2 1.41-.59l7.78-7.78 2.81-2.81c.8-.78.8-2.07 0-2.86zM5.41 20L4 18.59l7.72-7.72 1.47 1.35L5.41 20z\"/>\n",
              "  </svg>\n",
              "      </button>\n",
              "      \n",
              "  <style>\n",
              "    .colab-df-container {\n",
              "      display:flex;\n",
              "      flex-wrap:wrap;\n",
              "      gap: 12px;\n",
              "    }\n",
              "\n",
              "    .colab-df-convert {\n",
              "      background-color: #E8F0FE;\n",
              "      border: none;\n",
              "      border-radius: 50%;\n",
              "      cursor: pointer;\n",
              "      display: none;\n",
              "      fill: #1967D2;\n",
              "      height: 32px;\n",
              "      padding: 0 0 0 0;\n",
              "      width: 32px;\n",
              "    }\n",
              "\n",
              "    .colab-df-convert:hover {\n",
              "      background-color: #E2EBFA;\n",
              "      box-shadow: 0px 1px 2px rgba(60, 64, 67, 0.3), 0px 1px 3px 1px rgba(60, 64, 67, 0.15);\n",
              "      fill: #174EA6;\n",
              "    }\n",
              "\n",
              "    [theme=dark] .colab-df-convert {\n",
              "      background-color: #3B4455;\n",
              "      fill: #D2E3FC;\n",
              "    }\n",
              "\n",
              "    [theme=dark] .colab-df-convert:hover {\n",
              "      background-color: #434B5C;\n",
              "      box-shadow: 0px 1px 3px 1px rgba(0, 0, 0, 0.15);\n",
              "      filter: drop-shadow(0px 1px 2px rgba(0, 0, 0, 0.3));\n",
              "      fill: #FFFFFF;\n",
              "    }\n",
              "  </style>\n",
              "\n",
              "      <script>\n",
              "        const buttonEl =\n",
              "          document.querySelector('#df-36926fa0-2b86-44e0-b33b-ece808e43ad8 button.colab-df-convert');\n",
              "        buttonEl.style.display =\n",
              "          google.colab.kernel.accessAllowed ? 'block' : 'none';\n",
              "\n",
              "        async function convertToInteractive(key) {\n",
              "          const element = document.querySelector('#df-36926fa0-2b86-44e0-b33b-ece808e43ad8');\n",
              "          const dataTable =\n",
              "            await google.colab.kernel.invokeFunction('convertToInteractive',\n",
              "                                                     [key], {});\n",
              "          if (!dataTable) return;\n",
              "\n",
              "          const docLinkHtml = 'Like what you see? Visit the ' +\n",
              "            '<a target=\"_blank\" href=https://colab.research.google.com/notebooks/data_table.ipynb>data table notebook</a>'\n",
              "            + ' to learn more about interactive tables.';\n",
              "          element.innerHTML = '';\n",
              "          dataTable['output_type'] = 'display_data';\n",
              "          await google.colab.output.renderOutput(dataTable, element);\n",
              "          const docLink = document.createElement('div');\n",
              "          docLink.innerHTML = docLinkHtml;\n",
              "          element.appendChild(docLink);\n",
              "        }\n",
              "      </script>\n",
              "    </div>\n",
              "  </div>\n",
              "  "
            ]
          },
          "metadata": {},
          "execution_count": 61
        }
      ],
      "source": [
        "marital_status.assign(marital_status = marital_status.index.get_level_values('marital_status'))"
      ]
    },
    {
      "cell_type": "code",
      "execution_count": 62,
      "metadata": {
        "id": "zgaCX0OQTMH0"
      },
      "outputs": [],
      "source": [
        "marital_status.reset_index(inplace = True)"
      ]
    },
    {
      "cell_type": "code",
      "execution_count": 63,
      "metadata": {
        "id": "JfzeaaYwTMH0",
        "colab": {
          "base_uri": "https://localhost:8080/",
          "height": 467
        },
        "outputId": "123b0310-3507-4fd6-e93b-d5620f38df7f"
      },
      "outputs": [
        {
          "output_type": "execute_result",
          "data": {
            "image/png": "[encoded data removed]",
            "text/plain": [
              "<IPython.core.display.Image object>"
            ]
          },
          "metadata": {},
          "execution_count": 63
        }
      ],
      "source": [
        "fig = px.pie(marital_status, values = 'count', names = 'marital_status')\n",
        "\n",
        "gitly.show(fig)"
      ]
    },
    {
      "cell_type": "markdown",
      "metadata": {
        "id": "EYoRnKjSTMH1"
      },
      "source": [
        "Почти 40% клиентов состоят в браке, 25,8% живут вместе, а 21,7% не замужем."
      ]
    },
    {
      "cell_type": "markdown",
      "metadata": {
        "id": "omatXcJgTMH1"
      },
      "source": [
        "**2.1.3 Country**"
      ]
    },
    {
      "cell_type": "code",
      "execution_count": 77,
      "metadata": {
        "id": "QhCDIq2JTMH1"
      },
      "outputs": [],
      "source": [
        "country = df.groupby('country').agg(count = ('country', 'count'))"
      ]
    },
    {
      "cell_type": "code",
      "execution_count": 78,
      "metadata": {
        "id": "muts0CZYTMH2",
        "colab": {
          "base_uri": "https://localhost:8080/",
          "height": 332
        },
        "outputId": "59990070-5c24-486f-db4d-28c89d84bedd"
      },
      "outputs": [
        {
          "output_type": "execute_result",
          "data": {
            "text/plain": [
              "         count country\n",
              "country               \n",
              "aus        160     aus\n",
              "ca         268      ca\n",
              "ger        120     ger\n",
              "ind        147     ind\n",
              "me           3      me\n",
              "sa         335      sa\n",
              "sp        1094      sp\n",
              "us         109      us"
            ],
            "text/html": [
              "\n",
              "  <div id=\"df-4e586c73-a97a-4fd3-b1f1-ba14e1141147\">\n",
              "    <div class=\"colab-df-container\">\n",
              "      <div>\n",
              "<style scoped>\n",
              "    .dataframe tbody tr th:only-of-type {\n",
              "        vertical-align: middle;\n",
              "    }\n",
              "\n",
              "    .dataframe tbody tr th {\n",
              "        vertical-align: top;\n",
              "    }\n",
              "\n",
              "    .dataframe thead th {\n",
              "        text-align: right;\n",
              "    }\n",
              "</style>\n",
              "<table border=\"1\" class=\"dataframe\">\n",
              "  <thead>\n",
              "    <tr style=\"text-align: right;\">\n",
              "      <th></th>\n",
              "      <th>count</th>\n",
              "      <th>country</th>\n",
              "    </tr>\n",
              "    <tr>\n",
              "      <th>country</th>\n",
              "      <th></th>\n",
              "      <th></th>\n",
              "    </tr>\n",
              "  </thead>\n",
              "  <tbody>\n",
              "    <tr>\n",
              "      <th>aus</th>\n",
              "      <td>160</td>\n",
              "      <td>aus</td>\n",
              "    </tr>\n",
              "    <tr>\n",
              "      <th>ca</th>\n",
              "      <td>268</td>\n",
              "      <td>ca</td>\n",
              "    </tr>\n",
              "    <tr>\n",
              "      <th>ger</th>\n",
              "      <td>120</td>\n",
              "      <td>ger</td>\n",
              "    </tr>\n",
              "    <tr>\n",
              "      <th>ind</th>\n",
              "      <td>147</td>\n",
              "      <td>ind</td>\n",
              "    </tr>\n",
              "    <tr>\n",
              "      <th>me</th>\n",
              "      <td>3</td>\n",
              "      <td>me</td>\n",
              "    </tr>\n",
              "    <tr>\n",
              "      <th>sa</th>\n",
              "      <td>335</td>\n",
              "      <td>sa</td>\n",
              "    </tr>\n",
              "    <tr>\n",
              "      <th>sp</th>\n",
              "      <td>1094</td>\n",
              "      <td>sp</td>\n",
              "    </tr>\n",
              "    <tr>\n",
              "      <th>us</th>\n",
              "      <td>109</td>\n",
              "      <td>us</td>\n",
              "    </tr>\n",
              "  </tbody>\n",
              "</table>\n",
              "</div>\n",
              "      <button class=\"colab-df-convert\" onclick=\"convertToInteractive('df-4e586c73-a97a-4fd3-b1f1-ba14e1141147')\"\n",
              "              title=\"Convert this dataframe to an interactive table.\"\n",
              "              style=\"display:none;\">\n",
              "        \n",
              "  <svg xmlns=\"http://www.w3.org/2000/svg\" height=\"24px\"viewBox=\"0 0 24 24\"\n",
              "       width=\"24px\">\n",
              "    <path d=\"M0 0h24v24H0V0z\" fill=\"none\"/>\n",
              "    <path d=\"M18.56 5.44l.94 2.06.94-2.06 2.06-.94-2.06-.94-.94-2.06-.94 2.06-2.06.94zm-11 1L8.5 8.5l.94-2.06 2.06-.94-2.06-.94L8.5 2.5l-.94 2.06-2.06.94zm10 10l.94 2.06.94-2.06 2.06-.94-2.06-.94-.94-2.06-.94 2.06-2.06.94z\"/><path d=\"M17.41 7.96l-1.37-1.37c-.4-.4-.92-.59-1.43-.59-.52 0-1.04.2-1.43.59L10.3 9.45l-7.72 7.72c-.78.78-.78 2.05 0 2.83L4 21.41c.39.39.9.59 1.41.59.51 0 1.02-.2 1.41-.59l7.78-7.78 2.81-2.81c.8-.78.8-2.07 0-2.86zM5.41 20L4 18.59l7.72-7.72 1.47 1.35L5.41 20z\"/>\n",
              "  </svg>\n",
              "      </button>\n",
              "      \n",
              "  <style>\n",
              "    .colab-df-container {\n",
              "      display:flex;\n",
              "      flex-wrap:wrap;\n",
              "      gap: 12px;\n",
              "    }\n",
              "\n",
              "    .colab-df-convert {\n",
              "      background-color: #E8F0FE;\n",
              "      border: none;\n",
              "      border-radius: 50%;\n",
              "      cursor: pointer;\n",
              "      display: none;\n",
              "      fill: #1967D2;\n",
              "      height: 32px;\n",
              "      padding: 0 0 0 0;\n",
              "      width: 32px;\n",
              "    }\n",
              "\n",
              "    .colab-df-convert:hover {\n",
              "      background-color: #E2EBFA;\n",
              "      box-shadow: 0px 1px 2px rgba(60, 64, 67, 0.3), 0px 1px 3px 1px rgba(60, 64, 67, 0.15);\n",
              "      fill: #174EA6;\n",
              "    }\n",
              "\n",
              "    [theme=dark] .colab-df-convert {\n",
              "      background-color: #3B4455;\n",
              "      fill: #D2E3FC;\n",
              "    }\n",
              "\n",
              "    [theme=dark] .colab-df-convert:hover {\n",
              "      background-color: #434B5C;\n",
              "      box-shadow: 0px 1px 3px 1px rgba(0, 0, 0, 0.15);\n",
              "      filter: drop-shadow(0px 1px 2px rgba(0, 0, 0, 0.3));\n",
              "      fill: #FFFFFF;\n",
              "    }\n",
              "  </style>\n",
              "\n",
              "      <script>\n",
              "        const buttonEl =\n",
              "          document.querySelector('#df-4e586c73-a97a-4fd3-b1f1-ba14e1141147 button.colab-df-convert');\n",
              "        buttonEl.style.display =\n",
              "          google.colab.kernel.accessAllowed ? 'block' : 'none';\n",
              "\n",
              "        async function convertToInteractive(key) {\n",
              "          const element = document.querySelector('#df-4e586c73-a97a-4fd3-b1f1-ba14e1141147');\n",
              "          const dataTable =\n",
              "            await google.colab.kernel.invokeFunction('convertToInteractive',\n",
              "                                                     [key], {});\n",
              "          if (!dataTable) return;\n",
              "\n",
              "          const docLinkHtml = 'Like what you see? Visit the ' +\n",
              "            '<a target=\"_blank\" href=https://colab.research.google.com/notebooks/data_table.ipynb>data table notebook</a>'\n",
              "            + ' to learn more about interactive tables.';\n",
              "          element.innerHTML = '';\n",
              "          dataTable['output_type'] = 'display_data';\n",
              "          await google.colab.output.renderOutput(dataTable, element);\n",
              "          const docLink = document.createElement('div');\n",
              "          docLink.innerHTML = docLinkHtml;\n",
              "          element.appendChild(docLink);\n",
              "        }\n",
              "      </script>\n",
              "    </div>\n",
              "  </div>\n",
              "  "
            ]
          },
          "metadata": {},
          "execution_count": 78
        }
      ],
      "source": [
        "country.assign(country = country.index.get_level_values('country'))"
      ]
    },
    {
      "cell_type": "code",
      "execution_count": 79,
      "metadata": {
        "id": "SOcs2P4TTMH2"
      },
      "outputs": [],
      "source": [
        "country.reset_index(inplace = True)"
      ]
    },
    {
      "cell_type": "code",
      "execution_count": 80,
      "metadata": {
        "id": "DgEjFR58TMH2",
        "colab": {
          "base_uri": "https://localhost:8080/",
          "height": 467
        },
        "outputId": "1452848f-d89f-4cb4-c40c-b2e35b2465b3"
      },
      "outputs": [
        {
          "output_type": "execute_result",
          "data": {
            "image/png": "[encoded data removed]",
            "text/plain": [
              "<IPython.core.display.Image object>"
            ]
          },
          "metadata": {},
          "execution_count": 80
        }
      ],
      "source": [
        "fig = px.pie(country, values = 'count', names = 'country')\n",
        "\n",
        "gitly.show(fig)"
      ]
    },
    {
      "cell_type": "markdown",
      "metadata": {
        "id": "DDrHvz-VTMH2"
      },
      "source": [
        "Почти половина клиентов из Испании. Следующим по величине пулом клиентов является ЮАР (Южная Африка) с 15%, затем следует третья СА (Канада) с 12%."
      ]
    },
    {
      "cell_type": "markdown",
      "metadata": {
        "id": "W7xMlBxaTMH3"
      },
      "source": [
        "**2.1.4 Dependents**"
      ]
    },
    {
      "cell_type": "code",
      "execution_count": 36,
      "metadata": {
        "id": "gt1T6RMrTMH3"
      },
      "outputs": [],
      "source": [
        "dependents = df[['kidhome', 'teenhome']].value_counts().reset_index()"
      ]
    },
    {
      "cell_type": "code",
      "execution_count": 37,
      "metadata": {
        "id": "RpABaIDDTMH4"
      },
      "outputs": [],
      "source": [
        "dependents['index'] = np.arange(1, dependents.shape[0] + 1)"
      ]
    },
    {
      "cell_type": "code",
      "execution_count": 38,
      "metadata": {
        "id": "WEKqCCxfTMH4"
      },
      "outputs": [],
      "source": [
        "dependents = dependents.set_index('index')"
      ]
    },
    {
      "cell_type": "code",
      "execution_count": 39,
      "metadata": {
        "id": "UdeMMVC4TMH5"
      },
      "outputs": [],
      "source": [
        "dependents['kidhome'] = dependents['kidhome'].astype('string') + 'kid' "
      ]
    },
    {
      "cell_type": "code",
      "execution_count": 40,
      "metadata": {
        "id": "efM3yjK2TMH5"
      },
      "outputs": [],
      "source": [
        "dependents['kidhome'] = dependents['kidhome'].replace(to_replace = r'(kid)', value = r' \\1', regex = True)"
      ]
    },
    {
      "cell_type": "code",
      "execution_count": 41,
      "metadata": {
        "id": "SVV2--8aTMH5"
      },
      "outputs": [],
      "source": [
        "dependents['teenhome'] = dependents['teenhome'].astype('string') + 'teen' "
      ]
    },
    {
      "cell_type": "code",
      "execution_count": 42,
      "metadata": {
        "id": "qFGiWTqnTMH6"
      },
      "outputs": [],
      "source": [
        "dependents['teenhome'] = dependents['teenhome'].replace(to_replace = r'(teen)', value = r' \\1', regex = True)"
      ]
    },
    {
      "cell_type": "code",
      "execution_count": 43,
      "metadata": {
        "id": "U9zcYhPaTMH6"
      },
      "outputs": [],
      "source": [
        "dependents['dependenthome'] = dependents['kidhome']  + ' & ' + dependents['teenhome']"
      ]
    },
    {
      "cell_type": "code",
      "execution_count": 44,
      "metadata": {
        "id": "9JrQehMXTMH6"
      },
      "outputs": [],
      "source": [
        "dependents = dependents.rename(columns = {0: 'count'})"
      ]
    },
    {
      "cell_type": "code",
      "execution_count": 76,
      "metadata": {
        "id": "ALnTV6D4TMH7",
        "colab": {
          "base_uri": "https://localhost:8080/",
          "height": 467
        },
        "outputId": "d4fff7cf-bec2-4227-b386-9b0c1c9f01f4"
      },
      "outputs": [
        {
          "output_type": "execute_result",
          "data": {
            "image/png": "[encoded data removed]",
            "text/plain": [
              "<IPython.core.display.Image object>"
            ]
          },
          "metadata": {},
          "execution_count": 76
        }
      ],
      "source": [
        "fig = px.pie(dependents, values = 'count', names = 'dependenthome')\n",
        "\n",
        "gitly.show(fig)"
      ]
    },
    {
      "cell_type": "markdown",
      "metadata": {
        "id": "LP56fBZqTMH7"
      },
      "source": [
        "* Только у 28,5% клиентов нет детей (хотя бы ребенок или подросток в семье).\n",
        "\n",
        "* 71,5% клиентов имеют в семье хотя бы 1 ребенка или 1 подростка."
      ]
    },
    {
      "cell_type": "markdown",
      "metadata": {
        "id": "avoXkL6ITMH7"
      },
      "source": [
        "**2.2 Numerical features**"
      ]
    },
    {
      "cell_type": "code",
      "execution_count": 73,
      "metadata": {
        "id": "TMviSUJlyvDP"
      },
      "outputs": [],
      "source": [
        "numerical_features = pd.DataFrame((df[['age', 'income']].mean()))"
      ]
    },
    {
      "cell_type": "code",
      "execution_count": 74,
      "metadata": {
        "id": "nP4gSUibTMH8"
      },
      "outputs": [],
      "source": [
        "numerical_features = numerical_features.rename(columns = {0: 'numerical_feature'})"
      ]
    },
    {
      "cell_type": "code",
      "execution_count": 75,
      "metadata": {
        "id": "HDfT0VRSTMH8",
        "colab": {
          "base_uri": "https://localhost:8080/",
          "height": 112
        },
        "outputId": "2ef73692-6de4-4518-f468-387ad788c6a1"
      },
      "outputs": [
        {
          "output_type": "execute_result",
          "data": {
            "text/plain": [
              "        numerical_feature\n",
              "age             53.101968\n",
              "income       51958.810579"
            ],
            "text/html": [
              "\n",
              "  <div id=\"df-5b01b1ac-e170-45cb-a757-4fd503d29d78\">\n",
              "    <div class=\"colab-df-container\">\n",
              "      <div>\n",
              "<style scoped>\n",
              "    .dataframe tbody tr th:only-of-type {\n",
              "        vertical-align: middle;\n",
              "    }\n",
              "\n",
              "    .dataframe tbody tr th {\n",
              "        vertical-align: top;\n",
              "    }\n",
              "\n",
              "    .dataframe thead th {\n",
              "        text-align: right;\n",
              "    }\n",
              "</style>\n",
              "<table border=\"1\" class=\"dataframe\">\n",
              "  <thead>\n",
              "    <tr style=\"text-align: right;\">\n",
              "      <th></th>\n",
              "      <th>numerical_feature</th>\n",
              "    </tr>\n",
              "  </thead>\n",
              "  <tbody>\n",
              "    <tr>\n",
              "      <th>age</th>\n",
              "      <td>53.101968</td>\n",
              "    </tr>\n",
              "    <tr>\n",
              "      <th>income</th>\n",
              "      <td>51958.810579</td>\n",
              "    </tr>\n",
              "  </tbody>\n",
              "</table>\n",
              "</div>\n",
              "      <button class=\"colab-df-convert\" onclick=\"convertToInteractive('df-5b01b1ac-e170-45cb-a757-4fd503d29d78')\"\n",
              "              title=\"Convert this dataframe to an interactive table.\"\n",
              "              style=\"display:none;\">\n",
              "        \n",
              "  <svg xmlns=\"http://www.w3.org/2000/svg\" height=\"24px\"viewBox=\"0 0 24 24\"\n",
              "       width=\"24px\">\n",
              "    <path d=\"M0 0h24v24H0V0z\" fill=\"none\"/>\n",
              "    <path d=\"M18.56 5.44l.94 2.06.94-2.06 2.06-.94-2.06-.94-.94-2.06-.94 2.06-2.06.94zm-11 1L8.5 8.5l.94-2.06 2.06-.94-2.06-.94L8.5 2.5l-.94 2.06-2.06.94zm10 10l.94 2.06.94-2.06 2.06-.94-2.06-.94-.94-2.06-.94 2.06-2.06.94z\"/><path d=\"M17.41 7.96l-1.37-1.37c-.4-.4-.92-.59-1.43-.59-.52 0-1.04.2-1.43.59L10.3 9.45l-7.72 7.72c-.78.78-.78 2.05 0 2.83L4 21.41c.39.39.9.59 1.41.59.51 0 1.02-.2 1.41-.59l7.78-7.78 2.81-2.81c.8-.78.8-2.07 0-2.86zM5.41 20L4 18.59l7.72-7.72 1.47 1.35L5.41 20z\"/>\n",
              "  </svg>\n",
              "      </button>\n",
              "      \n",
              "  <style>\n",
              "    .colab-df-container {\n",
              "      display:flex;\n",
              "      flex-wrap:wrap;\n",
              "      gap: 12px;\n",
              "    }\n",
              "\n",
              "    .colab-df-convert {\n",
              "      background-color: #E8F0FE;\n",
              "      border: none;\n",
              "      border-radius: 50%;\n",
              "      cursor: pointer;\n",
              "      display: none;\n",
              "      fill: #1967D2;\n",
              "      height: 32px;\n",
              "      padding: 0 0 0 0;\n",
              "      width: 32px;\n",
              "    }\n",
              "\n",
              "    .colab-df-convert:hover {\n",
              "      background-color: #E2EBFA;\n",
              "      box-shadow: 0px 1px 2px rgba(60, 64, 67, 0.3), 0px 1px 3px 1px rgba(60, 64, 67, 0.15);\n",
              "      fill: #174EA6;\n",
              "    }\n",
              "\n",
              "    [theme=dark] .colab-df-convert {\n",
              "      background-color: #3B4455;\n",
              "      fill: #D2E3FC;\n",
              "    }\n",
              "\n",
              "    [theme=dark] .colab-df-convert:hover {\n",
              "      background-color: #434B5C;\n",
              "      box-shadow: 0px 1px 3px 1px rgba(0, 0, 0, 0.15);\n",
              "      filter: drop-shadow(0px 1px 2px rgba(0, 0, 0, 0.3));\n",
              "      fill: #FFFFFF;\n",
              "    }\n",
              "  </style>\n",
              "\n",
              "      <script>\n",
              "        const buttonEl =\n",
              "          document.querySelector('#df-5b01b1ac-e170-45cb-a757-4fd503d29d78 button.colab-df-convert');\n",
              "        buttonEl.style.display =\n",
              "          google.colab.kernel.accessAllowed ? 'block' : 'none';\n",
              "\n",
              "        async function convertToInteractive(key) {\n",
              "          const element = document.querySelector('#df-5b01b1ac-e170-45cb-a757-4fd503d29d78');\n",
              "          const dataTable =\n",
              "            await google.colab.kernel.invokeFunction('convertToInteractive',\n",
              "                                                     [key], {});\n",
              "          if (!dataTable) return;\n",
              "\n",
              "          const docLinkHtml = 'Like what you see? Visit the ' +\n",
              "            '<a target=\"_blank\" href=https://colab.research.google.com/notebooks/data_table.ipynb>data table notebook</a>'\n",
              "            + ' to learn more about interactive tables.';\n",
              "          element.innerHTML = '';\n",
              "          dataTable['output_type'] = 'display_data';\n",
              "          await google.colab.output.renderOutput(dataTable, element);\n",
              "          const docLink = document.createElement('div');\n",
              "          docLink.innerHTML = docLinkHtml;\n",
              "          element.appendChild(docLink);\n",
              "        }\n",
              "      </script>\n",
              "    </div>\n",
              "  </div>\n",
              "  "
            ]
          },
          "metadata": {},
          "execution_count": 75
        }
      ],
      "source": [
        "numerical_features"
      ]
    },
    {
      "cell_type": "markdown",
      "metadata": {
        "id": "eNLHLoSrTMH9"
      },
      "source": [
        "Средний покупатель...\n",
        "\n",
        "* 53 года\n",
        "* из Испании\n",
        "* высшее образование\n",
        "* зарабатывает около 52 000 долларов США\n",
        "* состоит в отношениях, т.е. состоит в браке или вместе\n",
        "* имеет по крайней мере ребенка (ребенка или подростка)"
      ]
    },
    {
      "cell_type": "code",
      "source": [
        " !pip install PyMySQL\n",
        " !pip install mysql-connector-python"
      ],
      "metadata": {
        "colab": {
          "base_uri": "https://localhost:8080/"
        },
        "id": "1RnO0GKQ-1F_",
        "outputId": "dd2dc5e7-9a1a-478b-e827-324618348e0b"
      },
      "execution_count": 46,
      "outputs": [
        {
          "output_type": "stream",
          "name": "stdout",
          "text": [
            "Looking in indexes: https://pypi.org/simple, https://us-python.pkg.dev/colab-wheels/public/simple/\n",
            "Collecting PyMySQL\n",
            "  Downloading PyMySQL-1.0.2-py3-none-any.whl (43 kB)\n",
            "\u001b[K     |████████████████████████████████| 43 kB 1.7 MB/s \n",
            "\u001b[?25hInstalling collected packages: PyMySQL\n",
            "Successfully installed PyMySQL-1.0.2\n",
            "Looking in indexes: https://pypi.org/simple, https://us-python.pkg.dev/colab-wheels/public/simple/\n",
            "Collecting mysql-connector-python\n",
            "  Downloading mysql_connector_python-8.0.31-cp38-cp38-manylinux1_x86_64.whl (23.5 MB)\n",
            "\u001b[K     |████████████████████████████████| 23.5 MB 1.4 MB/s \n",
            "\u001b[?25hRequirement already satisfied: protobuf<=3.20.1,>=3.11.0 in /usr/local/lib/python3.8/dist-packages (from mysql-connector-python) (3.19.6)\n",
            "Installing collected packages: mysql-connector-python\n",
            "Successfully installed mysql-connector-python-8.0.31\n"
          ]
        }
      ]
    },
    {
      "cell_type": "code",
      "source": [
        "# Import dataframe into MySQL\n",
        "import sqlalchemy\n",
        "database_username = 'MGPU_ADEU_115'\n",
        "database_password = '15490845'\n",
        "database_ip = '95.131.149.21'\n",
        "database_name = 'MGPU_ADEU_115'\n",
        "database_connection = sqlalchemy.create_engine('mysql+mysqlconnector://{0}:{1}@{2}/{3}'.format(database_username, database_password, database_ip, database_name))\n",
        "dependents.to_sql(con=database_connection, name='dependents', if_exists='replace')"
      ],
      "metadata": {
        "colab": {
          "base_uri": "https://localhost:8080/"
        },
        "id": "_7vx5Amc-ufW",
        "outputId": "dde7e117-367a-4992-c313-4bb64a3ee729"
      },
      "execution_count": 47,
      "outputs": [
        {
          "output_type": "execute_result",
          "data": {
            "text/plain": [
              "8"
            ]
          },
          "metadata": {},
          "execution_count": 47
        }
      ]
    },
    {
      "cell_type": "code",
      "source": [
        "# Import dataframe into MySQL\n",
        "import sqlalchemy\n",
        "database_username = 'MGPU_ADEU_115'\n",
        "database_password = '15490845'\n",
        "database_ip = '95.131.149.21'\n",
        "database_name = 'MGPU_ADEU_115'\n",
        "database_connection = sqlalchemy.create_engine('mysql+mysqlconnector://{0}:{1}@{2}/{3}'.format(database_username, database_password, database_ip, database_name))\n",
        "accepted_cmp.to_sql(con=database_connection, name='accepted_cmp', if_exists='replace')"
      ],
      "metadata": {
        "colab": {
          "base_uri": "https://localhost:8080/"
        },
        "id": "UTYf-ojW--Un",
        "outputId": "4c8ab0e6-fe01-4c46-993e-e0ba3075250a"
      },
      "execution_count": 72,
      "outputs": [
        {
          "output_type": "execute_result",
          "data": {
            "text/plain": [
              "6"
            ]
          },
          "metadata": {},
          "execution_count": 72
        }
      ]
    },
    {
      "cell_type": "code",
      "source": [
        "# Import dataframe into MySQL\n",
        "import sqlalchemy\n",
        "database_username = 'MGPU_ADEU_115'\n",
        "database_password = '15490845'\n",
        "database_ip = '95.131.149.21'\n",
        "database_name = 'MGPU_ADEU_115'\n",
        "database_connection = sqlalchemy.create_engine('mysql+mysqlconnector://{0}:{1}@{2}/{3}'.format(database_username, database_password, database_ip, database_name))\n",
        "average_purchases_per_country.to_sql(con=database_connection, name='average_country', if_exists='replace')"
      ],
      "metadata": {
        "id": "s1KpaMP3Ag2y"
      },
      "execution_count": null,
      "outputs": []
    },
    {
      "cell_type": "code",
      "source": [
        "# Import dataframe into MySQL\n",
        "import sqlalchemy\n",
        "database_username = 'MGPU_ADEU_115'\n",
        "database_password = '15490845'\n",
        "database_ip = '95.131.149.21'\n",
        "database_name = 'MGPU_ADEU_115'\n",
        "database_connection = sqlalchemy.create_engine('mysql+mysqlconnector://{0}:{1}@{2}/{3}'.format(database_username, database_password, database_ip, database_name))\n",
        "acceptedcmp_by_country.to_sql(con=database_connection, name='acceptedcmp_by_country', if_exists='replace')"
      ],
      "metadata": {
        "id": "VRTVwBQ4Aj1Q"
      },
      "execution_count": null,
      "outputs": []
    },
    {
      "cell_type": "code",
      "source": [
        "# Import dataframe into MySQL\n",
        "import sqlalchemy\n",
        "database_username = 'MGPU_ADEU_115'\n",
        "database_password = '15490845'\n",
        "database_ip = '95.131.149.21'\n",
        "database_name = 'MGPU_ADEU_115'\n",
        "database_connection = sqlalchemy.create_engine('mysql+mysqlconnector://{0}:{1}@{2}/{3}'.format(database_username, database_password, database_ip, database_name))\n",
        "education.to_sql(con=database_connection, name='education1', if_exists='replace')"
      ],
      "metadata": {
        "id": "0qBLsqbIAnEN"
      },
      "execution_count": null,
      "outputs": []
    },
    {
      "cell_type": "code",
      "source": [
        "# Import dataframe into MySQL\n",
        "import sqlalchemy\n",
        "database_username = 'MGPU_ADEU_115'\n",
        "database_password = '15490845'\n",
        "database_ip = '95.131.149.21'\n",
        "database_name = 'MGPU_ADEU_115'\n",
        "database_connection = sqlalchemy.create_engine('mysql+mysqlconnector://{0}:{1}@{2}/{3}'.format(database_username, database_password, database_ip, database_name))\n",
        "marital_status.to_sql(con=database_connection, name='marital_status', if_exists='replace')"
      ],
      "metadata": {
        "id": "FIdQVXGjApK9"
      },
      "execution_count": null,
      "outputs": []
    },
    {
      "cell_type": "code",
      "source": [
        "# Import dataframe into MySQL\n",
        "import sqlalchemy\n",
        "database_username = 'MGPU_ADEU_115'\n",
        "database_password = '15490845'\n",
        "database_ip = '95.131.149.21'\n",
        "database_name = 'MGPU_ADEU_115'\n",
        "database_connection = sqlalchemy.create_engine('mysql+mysqlconnector://{0}:{1}@{2}/{3}'.format(database_username, database_password, database_ip, database_name))\n",
        "country.to_sql(con=database_connection, name='country', if_exists='replace')"
      ],
      "metadata": {
        "id": "B7MyIvEzAp0V"
      },
      "execution_count": null,
      "outputs": []
    },
    {
      "cell_type": "code",
      "source": [
        "# Import dataframe into MySQL\n",
        "import sqlalchemy\n",
        "database_username = 'MGPU_ADEU_115'\n",
        "database_password = '15490845'\n",
        "database_ip = '95.131.149.21'\n",
        "database_name = 'MGPU_ADEU_115'\n",
        "database_connection = sqlalchemy.create_engine('mysql+mysqlconnector://{0}:{1}@{2}/{3}'.format(database_username, database_password, database_ip, database_name))\n",
        "df.to_sql(con=database_connection, name='df', if_exists='replace')"
      ],
      "metadata": {
        "id": "UH0weOJGArU9"
      },
      "execution_count": null,
      "outputs": []
    }
  ],
  "metadata": {
    "colab": {
      "provenance": [],
      "include_colab_link": true
    },
    "kernelspec": {
      "display_name": "Python 3",
      "language": "python",
      "name": "python3"
    },
    "language_info": {
      "codemirror_mode": {
        "name": "ipython",
        "version": 3
      },
      "file_extension": ".py",
      "mimetype": "text/x-python",
      "name": "python",
      "nbconvert_exporter": "python",
      "pygments_lexer": "ipython3",
      "version": "3.7.12"
    }
  },
  "nbformat": 4,
  "nbformat_minor": 0
}